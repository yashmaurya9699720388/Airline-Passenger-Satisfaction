{
 "cells": [
  {
   "cell_type": "markdown",
   "metadata": {},
   "source": [
    "#                  **********************ARILINE PASSENGER SATISFACTION***************"
   ]
  },
  {
   "cell_type": "markdown",
   "metadata": {},
   "source": [
    "# About Dataset"
   ]
  },
  {
   "cell_type": "markdown",
   "metadata": {},
   "source": [
    "\n",
    "# Context\n",
    "This dataset contains an airline passenger satisfaction survey. What factors are highly correlated to a satisfied (or dissatisfied) passenger? i have predict passenger satisfaction.\n",
    "\n",
    "Content\n",
    "Gender: Gender of the passengers (Female, Male)\n",
    "\n",
    "Customer Type: The customer type (Loyal customer, disloyal customer)\n",
    "\n",
    "Age: The actual age of the passengers\n",
    "\n",
    "Type of Travel: Purpose of the flight of the passengers (Personal Travel, Business Travel)\n",
    "\n",
    "Class: Travel class in the plane of the passengers (Business, Eco, Eco Plus)\n",
    "\n",
    "Flight distance: The flight distance of this journey\n",
    "\n",
    "nflight wifi service: Satisfaction level of the inflight wifi service (0:Not Applicable;1-5)\n",
    "\n",
    "Departure/Arrival time convenient: Satisfaction level of Departure/Arrival time convenient\n",
    "\n",
    "Ease of Online booking: Satisfaction level of online booking\n",
    "\n",
    "Gate location: Satisfaction level of Gate location\n",
    "\n",
    "Food and drink: Satisfaction level of Food and drink\n",
    "\n",
    "Online boarding: Satisfaction level of online boarding\n",
    "\n",
    "Seat comfort: Satisfaction level of Seat comfort\n",
    "\n",
    "Inflight entertainment: Satisfaction level of inflight entertainment\n",
    "\n",
    "On-board service: Satisfaction level of On-board service\n",
    "\n",
    "Leg room service: Satisfaction level of Leg room service\n",
    "\n",
    "Baggage handling: Satisfaction level of baggage handling\n",
    "\n",
    "Check-in service: Satisfaction level of Check-in service\n",
    "\n",
    "Inflight service: Satisfaction level of inflight service\n",
    "\n",
    "Cleanliness: Satisfaction level of Cleanliness\n",
    "\n",
    "Departure Delay in Minutes: Minutes delayed when departure\n",
    "\n",
    "Arrival Delay in Minutes: Minutes delayed when Arrival\n",
    "\n",
    "Satisfaction: Airline satisfaction level(Satisfaction, neutral) "
   ]
  },
  {
   "cell_type": "markdown",
   "metadata": {},
   "source": [
    "# EDA (exploratory data analysis)\n",
    "\n"
   ]
  },
  {
   "cell_type": "code",
   "execution_count": 1,
   "metadata": {},
   "outputs": [],
   "source": [
    "# Importing Necessary Library"
   ]
  },
  {
   "cell_type": "code",
   "execution_count": 2,
   "metadata": {},
   "outputs": [],
   "source": [
    "import pandas as pd\n",
    "import numpy as np\n",
    "import matplotlib.pyplot as plt\n",
    "import seaborn as sns\n",
    "from sklearn.model_selection import train_test_split,StratifiedKFold,GridSearchCV\n",
    "from sklearn.linear_model import LogisticRegression\n",
    "from sklearn.ensemble import RandomForestClassifier,VotingClassifier\n",
    "from sklearn.neighbors import KNeighborsClassifier\n",
    "from sklearn.tree import DecisionTreeClassifier\n",
    "from sklearn.metrics import accuracy_score\n",
    "from sklearn.metrics import confusion_matrix\n",
    "from sklearn.preprocessing import StandardScaler\n",
    "from sklearn.compose import ColumnTransformer\n",
    "from sklearn.metrics import roc_curve, roc_auc_score\n",
    "from sklearn.preprocessing import LabelEncoder\n",
    "import warnings\n",
    "warnings.simplefilter(\"ignore\")"
   ]
  },
  {
   "cell_type": "code",
   "execution_count": 3,
   "metadata": {},
   "outputs": [],
   "source": [
    "# Importing Both Datasets Using Pandas Library"
   ]
  },
  {
   "cell_type": "code",
   "execution_count": 4,
   "metadata": {},
   "outputs": [],
   "source": [
    "df_train=pd.read_csv(r\"train.csv\")\n",
    "df_test=pd.read_csv(r\"test.csv\")"
   ]
  },
  {
   "cell_type": "code",
   "execution_count": 69,
   "metadata": {},
   "outputs": [
    {
     "data": {
      "text/html": [
       "<div>\n",
       "<style scoped>\n",
       "    .dataframe tbody tr th:only-of-type {\n",
       "        vertical-align: middle;\n",
       "    }\n",
       "\n",
       "    .dataframe tbody tr th {\n",
       "        vertical-align: top;\n",
       "    }\n",
       "\n",
       "    .dataframe thead th {\n",
       "        text-align: right;\n",
       "    }\n",
       "</style>\n",
       "<table border=\"1\" class=\"dataframe\">\n",
       "  <thead>\n",
       "    <tr style=\"text-align: right;\">\n",
       "      <th></th>\n",
       "      <th>id</th>\n",
       "      <th>Gender</th>\n",
       "      <th>Customer Type</th>\n",
       "      <th>Age</th>\n",
       "      <th>Type of Travel</th>\n",
       "      <th>Class</th>\n",
       "      <th>Flight Distance</th>\n",
       "      <th>Inflight wifi service</th>\n",
       "      <th>Departure/Arrival time convenient</th>\n",
       "      <th>Ease of Online booking</th>\n",
       "      <th>...</th>\n",
       "      <th>Inflight entertainment</th>\n",
       "      <th>On-board service</th>\n",
       "      <th>Leg room service</th>\n",
       "      <th>Baggage handling</th>\n",
       "      <th>Checkin service</th>\n",
       "      <th>Inflight service</th>\n",
       "      <th>Cleanliness</th>\n",
       "      <th>Departure Delay in Minutes</th>\n",
       "      <th>Arrival Delay in Minutes</th>\n",
       "      <th>satisfaction</th>\n",
       "    </tr>\n",
       "  </thead>\n",
       "  <tbody>\n",
       "    <tr>\n",
       "      <th>103890</th>\n",
       "      <td>80087</td>\n",
       "      <td>0</td>\n",
       "      <td>0</td>\n",
       "      <td>56</td>\n",
       "      <td>0</td>\n",
       "      <td>2</td>\n",
       "      <td>550</td>\n",
       "      <td>3</td>\n",
       "      <td>5</td>\n",
       "      <td>5</td>\n",
       "      <td>...</td>\n",
       "      <td>3</td>\n",
       "      <td>3</td>\n",
       "      <td>3</td>\n",
       "      <td>3</td>\n",
       "      <td>4</td>\n",
       "      <td>3</td>\n",
       "      <td>3</td>\n",
       "      <td>0</td>\n",
       "      <td>0.0</td>\n",
       "      <td>1</td>\n",
       "    </tr>\n",
       "    <tr>\n",
       "      <th>103894</th>\n",
       "      <td>86549</td>\n",
       "      <td>1</td>\n",
       "      <td>0</td>\n",
       "      <td>26</td>\n",
       "      <td>0</td>\n",
       "      <td>0</td>\n",
       "      <td>712</td>\n",
       "      <td>4</td>\n",
       "      <td>4</td>\n",
       "      <td>4</td>\n",
       "      <td>...</td>\n",
       "      <td>5</td>\n",
       "      <td>3</td>\n",
       "      <td>4</td>\n",
       "      <td>4</td>\n",
       "      <td>3</td>\n",
       "      <td>4</td>\n",
       "      <td>5</td>\n",
       "      <td>17</td>\n",
       "      <td>26.0</td>\n",
       "      <td>1</td>\n",
       "    </tr>\n",
       "    <tr>\n",
       "      <th>103895</th>\n",
       "      <td>66030</td>\n",
       "      <td>0</td>\n",
       "      <td>1</td>\n",
       "      <td>24</td>\n",
       "      <td>0</td>\n",
       "      <td>1</td>\n",
       "      <td>1055</td>\n",
       "      <td>1</td>\n",
       "      <td>1</td>\n",
       "      <td>1</td>\n",
       "      <td>...</td>\n",
       "      <td>1</td>\n",
       "      <td>3</td>\n",
       "      <td>3</td>\n",
       "      <td>5</td>\n",
       "      <td>5</td>\n",
       "      <td>4</td>\n",
       "      <td>1</td>\n",
       "      <td>13</td>\n",
       "      <td>10.0</td>\n",
       "      <td>0</td>\n",
       "    </tr>\n",
       "    <tr>\n",
       "      <th>103897</th>\n",
       "      <td>102203</td>\n",
       "      <td>0</td>\n",
       "      <td>0</td>\n",
       "      <td>60</td>\n",
       "      <td>0</td>\n",
       "      <td>0</td>\n",
       "      <td>1599</td>\n",
       "      <td>5</td>\n",
       "      <td>5</td>\n",
       "      <td>5</td>\n",
       "      <td>...</td>\n",
       "      <td>4</td>\n",
       "      <td>4</td>\n",
       "      <td>4</td>\n",
       "      <td>4</td>\n",
       "      <td>4</td>\n",
       "      <td>4</td>\n",
       "      <td>4</td>\n",
       "      <td>9</td>\n",
       "      <td>7.0</td>\n",
       "      <td>1</td>\n",
       "    </tr>\n",
       "    <tr>\n",
       "      <th>103898</th>\n",
       "      <td>60666</td>\n",
       "      <td>1</td>\n",
       "      <td>0</td>\n",
       "      <td>50</td>\n",
       "      <td>1</td>\n",
       "      <td>1</td>\n",
       "      <td>1620</td>\n",
       "      <td>3</td>\n",
       "      <td>1</td>\n",
       "      <td>3</td>\n",
       "      <td>...</td>\n",
       "      <td>2</td>\n",
       "      <td>4</td>\n",
       "      <td>3</td>\n",
       "      <td>4</td>\n",
       "      <td>2</td>\n",
       "      <td>4</td>\n",
       "      <td>2</td>\n",
       "      <td>0</td>\n",
       "      <td>0.0</td>\n",
       "      <td>0</td>\n",
       "    </tr>\n",
       "    <tr>\n",
       "      <th>103899</th>\n",
       "      <td>94171</td>\n",
       "      <td>0</td>\n",
       "      <td>1</td>\n",
       "      <td>23</td>\n",
       "      <td>0</td>\n",
       "      <td>1</td>\n",
       "      <td>192</td>\n",
       "      <td>2</td>\n",
       "      <td>1</td>\n",
       "      <td>2</td>\n",
       "      <td>...</td>\n",
       "      <td>2</td>\n",
       "      <td>3</td>\n",
       "      <td>1</td>\n",
       "      <td>4</td>\n",
       "      <td>2</td>\n",
       "      <td>3</td>\n",
       "      <td>2</td>\n",
       "      <td>3</td>\n",
       "      <td>0.0</td>\n",
       "      <td>0</td>\n",
       "    </tr>\n",
       "    <tr>\n",
       "      <th>103900</th>\n",
       "      <td>73097</td>\n",
       "      <td>1</td>\n",
       "      <td>0</td>\n",
       "      <td>49</td>\n",
       "      <td>0</td>\n",
       "      <td>0</td>\n",
       "      <td>2347</td>\n",
       "      <td>4</td>\n",
       "      <td>4</td>\n",
       "      <td>4</td>\n",
       "      <td>...</td>\n",
       "      <td>5</td>\n",
       "      <td>5</td>\n",
       "      <td>5</td>\n",
       "      <td>5</td>\n",
       "      <td>5</td>\n",
       "      <td>5</td>\n",
       "      <td>4</td>\n",
       "      <td>0</td>\n",
       "      <td>0.0</td>\n",
       "      <td>1</td>\n",
       "    </tr>\n",
       "    <tr>\n",
       "      <th>103901</th>\n",
       "      <td>68825</td>\n",
       "      <td>1</td>\n",
       "      <td>1</td>\n",
       "      <td>30</td>\n",
       "      <td>0</td>\n",
       "      <td>0</td>\n",
       "      <td>1995</td>\n",
       "      <td>1</td>\n",
       "      <td>1</td>\n",
       "      <td>1</td>\n",
       "      <td>...</td>\n",
       "      <td>4</td>\n",
       "      <td>3</td>\n",
       "      <td>2</td>\n",
       "      <td>4</td>\n",
       "      <td>5</td>\n",
       "      <td>5</td>\n",
       "      <td>4</td>\n",
       "      <td>7</td>\n",
       "      <td>14.0</td>\n",
       "      <td>0</td>\n",
       "    </tr>\n",
       "    <tr>\n",
       "      <th>103902</th>\n",
       "      <td>54173</td>\n",
       "      <td>0</td>\n",
       "      <td>1</td>\n",
       "      <td>22</td>\n",
       "      <td>0</td>\n",
       "      <td>1</td>\n",
       "      <td>1000</td>\n",
       "      <td>1</td>\n",
       "      <td>1</td>\n",
       "      <td>1</td>\n",
       "      <td>...</td>\n",
       "      <td>1</td>\n",
       "      <td>4</td>\n",
       "      <td>5</td>\n",
       "      <td>1</td>\n",
       "      <td>5</td>\n",
       "      <td>4</td>\n",
       "      <td>1</td>\n",
       "      <td>0</td>\n",
       "      <td>0.0</td>\n",
       "      <td>0</td>\n",
       "    </tr>\n",
       "    <tr>\n",
       "      <th>103903</th>\n",
       "      <td>62567</td>\n",
       "      <td>1</td>\n",
       "      <td>0</td>\n",
       "      <td>27</td>\n",
       "      <td>0</td>\n",
       "      <td>0</td>\n",
       "      <td>1723</td>\n",
       "      <td>1</td>\n",
       "      <td>3</td>\n",
       "      <td>3</td>\n",
       "      <td>...</td>\n",
       "      <td>1</td>\n",
       "      <td>1</td>\n",
       "      <td>1</td>\n",
       "      <td>4</td>\n",
       "      <td>4</td>\n",
       "      <td>3</td>\n",
       "      <td>1</td>\n",
       "      <td>0</td>\n",
       "      <td>0.0</td>\n",
       "      <td>0</td>\n",
       "    </tr>\n",
       "  </tbody>\n",
       "</table>\n",
       "<p>10 rows × 24 columns</p>\n",
       "</div>"
      ],
      "text/plain": [
       "            id  Gender  Customer Type  Age  Type of Travel  Class  \\\n",
       "103890   80087       0              0   56               0      2   \n",
       "103894   86549       1              0   26               0      0   \n",
       "103895   66030       0              1   24               0      1   \n",
       "103897  102203       0              0   60               0      0   \n",
       "103898   60666       1              0   50               1      1   \n",
       "103899   94171       0              1   23               0      1   \n",
       "103900   73097       1              0   49               0      0   \n",
       "103901   68825       1              1   30               0      0   \n",
       "103902   54173       0              1   22               0      1   \n",
       "103903   62567       1              0   27               0      0   \n",
       "\n",
       "        Flight Distance  Inflight wifi service  \\\n",
       "103890              550                      3   \n",
       "103894              712                      4   \n",
       "103895             1055                      1   \n",
       "103897             1599                      5   \n",
       "103898             1620                      3   \n",
       "103899              192                      2   \n",
       "103900             2347                      4   \n",
       "103901             1995                      1   \n",
       "103902             1000                      1   \n",
       "103903             1723                      1   \n",
       "\n",
       "        Departure/Arrival time convenient  Ease of Online booking  ...  \\\n",
       "103890                                  5                       5  ...   \n",
       "103894                                  4                       4  ...   \n",
       "103895                                  1                       1  ...   \n",
       "103897                                  5                       5  ...   \n",
       "103898                                  1                       3  ...   \n",
       "103899                                  1                       2  ...   \n",
       "103900                                  4                       4  ...   \n",
       "103901                                  1                       1  ...   \n",
       "103902                                  1                       1  ...   \n",
       "103903                                  3                       3  ...   \n",
       "\n",
       "        Inflight entertainment  On-board service  Leg room service  \\\n",
       "103890                       3                 3                 3   \n",
       "103894                       5                 3                 4   \n",
       "103895                       1                 3                 3   \n",
       "103897                       4                 4                 4   \n",
       "103898                       2                 4                 3   \n",
       "103899                       2                 3                 1   \n",
       "103900                       5                 5                 5   \n",
       "103901                       4                 3                 2   \n",
       "103902                       1                 4                 5   \n",
       "103903                       1                 1                 1   \n",
       "\n",
       "        Baggage handling  Checkin service  Inflight service  Cleanliness  \\\n",
       "103890                 3                4                 3            3   \n",
       "103894                 4                3                 4            5   \n",
       "103895                 5                5                 4            1   \n",
       "103897                 4                4                 4            4   \n",
       "103898                 4                2                 4            2   \n",
       "103899                 4                2                 3            2   \n",
       "103900                 5                5                 5            4   \n",
       "103901                 4                5                 5            4   \n",
       "103902                 1                5                 4            1   \n",
       "103903                 4                4                 3            1   \n",
       "\n",
       "        Departure Delay in Minutes  Arrival Delay in Minutes  satisfaction  \n",
       "103890                           0                       0.0             1  \n",
       "103894                          17                      26.0             1  \n",
       "103895                          13                      10.0             0  \n",
       "103897                           9                       7.0             1  \n",
       "103898                           0                       0.0             0  \n",
       "103899                           3                       0.0             0  \n",
       "103900                           0                       0.0             1  \n",
       "103901                           7                      14.0             0  \n",
       "103902                           0                       0.0             0  \n",
       "103903                           0                       0.0             0  \n",
       "\n",
       "[10 rows x 24 columns]"
      ]
     },
     "execution_count": 69,
     "metadata": {},
     "output_type": "execute_result"
    }
   ],
   "source": [
    "df_train.tail(10)"
   ]
  },
  {
   "cell_type": "code",
   "execution_count": 68,
   "metadata": {},
   "outputs": [
    {
     "data": {
      "text/html": [
       "<div>\n",
       "<style scoped>\n",
       "    .dataframe tbody tr th:only-of-type {\n",
       "        vertical-align: middle;\n",
       "    }\n",
       "\n",
       "    .dataframe tbody tr th {\n",
       "        vertical-align: top;\n",
       "    }\n",
       "\n",
       "    .dataframe thead th {\n",
       "        text-align: right;\n",
       "    }\n",
       "</style>\n",
       "<table border=\"1\" class=\"dataframe\">\n",
       "  <thead>\n",
       "    <tr style=\"text-align: right;\">\n",
       "      <th></th>\n",
       "      <th>id</th>\n",
       "      <th>Gender</th>\n",
       "      <th>Customer Type</th>\n",
       "      <th>Age</th>\n",
       "      <th>Type of Travel</th>\n",
       "      <th>Class</th>\n",
       "      <th>Flight Distance</th>\n",
       "      <th>Inflight wifi service</th>\n",
       "      <th>Departure/Arrival time convenient</th>\n",
       "      <th>Ease of Online booking</th>\n",
       "      <th>...</th>\n",
       "      <th>Inflight entertainment</th>\n",
       "      <th>On-board service</th>\n",
       "      <th>Leg room service</th>\n",
       "      <th>Baggage handling</th>\n",
       "      <th>Checkin service</th>\n",
       "      <th>Inflight service</th>\n",
       "      <th>Cleanliness</th>\n",
       "      <th>Departure Delay in Minutes</th>\n",
       "      <th>Arrival Delay in Minutes</th>\n",
       "      <th>satisfaction</th>\n",
       "    </tr>\n",
       "  </thead>\n",
       "  <tbody>\n",
       "    <tr>\n",
       "      <th>25966</th>\n",
       "      <td>30263</td>\n",
       "      <td>1</td>\n",
       "      <td>1</td>\n",
       "      <td>42</td>\n",
       "      <td>0</td>\n",
       "      <td>1</td>\n",
       "      <td>1024</td>\n",
       "      <td>4</td>\n",
       "      <td>4</td>\n",
       "      <td>4</td>\n",
       "      <td>...</td>\n",
       "      <td>3</td>\n",
       "      <td>3</td>\n",
       "      <td>1</td>\n",
       "      <td>2</td>\n",
       "      <td>2</td>\n",
       "      <td>3</td>\n",
       "      <td>3</td>\n",
       "      <td>0</td>\n",
       "      <td>17.0</td>\n",
       "      <td>0</td>\n",
       "    </tr>\n",
       "    <tr>\n",
       "      <th>25967</th>\n",
       "      <td>90347</td>\n",
       "      <td>0</td>\n",
       "      <td>1</td>\n",
       "      <td>39</td>\n",
       "      <td>0</td>\n",
       "      <td>0</td>\n",
       "      <td>404</td>\n",
       "      <td>1</td>\n",
       "      <td>1</td>\n",
       "      <td>1</td>\n",
       "      <td>...</td>\n",
       "      <td>2</td>\n",
       "      <td>5</td>\n",
       "      <td>3</td>\n",
       "      <td>4</td>\n",
       "      <td>4</td>\n",
       "      <td>4</td>\n",
       "      <td>2</td>\n",
       "      <td>0</td>\n",
       "      <td>0.0</td>\n",
       "      <td>0</td>\n",
       "    </tr>\n",
       "    <tr>\n",
       "      <th>25968</th>\n",
       "      <td>86816</td>\n",
       "      <td>1</td>\n",
       "      <td>0</td>\n",
       "      <td>41</td>\n",
       "      <td>0</td>\n",
       "      <td>1</td>\n",
       "      <td>692</td>\n",
       "      <td>2</td>\n",
       "      <td>2</td>\n",
       "      <td>2</td>\n",
       "      <td>...</td>\n",
       "      <td>2</td>\n",
       "      <td>2</td>\n",
       "      <td>3</td>\n",
       "      <td>3</td>\n",
       "      <td>2</td>\n",
       "      <td>3</td>\n",
       "      <td>2</td>\n",
       "      <td>15</td>\n",
       "      <td>3.0</td>\n",
       "      <td>0</td>\n",
       "    </tr>\n",
       "    <tr>\n",
       "      <th>25969</th>\n",
       "      <td>120654</td>\n",
       "      <td>1</td>\n",
       "      <td>0</td>\n",
       "      <td>52</td>\n",
       "      <td>0</td>\n",
       "      <td>0</td>\n",
       "      <td>280</td>\n",
       "      <td>3</td>\n",
       "      <td>3</td>\n",
       "      <td>3</td>\n",
       "      <td>...</td>\n",
       "      <td>4</td>\n",
       "      <td>4</td>\n",
       "      <td>4</td>\n",
       "      <td>4</td>\n",
       "      <td>3</td>\n",
       "      <td>4</td>\n",
       "      <td>3</td>\n",
       "      <td>0</td>\n",
       "      <td>0.0</td>\n",
       "      <td>1</td>\n",
       "    </tr>\n",
       "    <tr>\n",
       "      <th>25970</th>\n",
       "      <td>25309</td>\n",
       "      <td>0</td>\n",
       "      <td>1</td>\n",
       "      <td>36</td>\n",
       "      <td>0</td>\n",
       "      <td>1</td>\n",
       "      <td>432</td>\n",
       "      <td>1</td>\n",
       "      <td>5</td>\n",
       "      <td>1</td>\n",
       "      <td>...</td>\n",
       "      <td>4</td>\n",
       "      <td>5</td>\n",
       "      <td>2</td>\n",
       "      <td>5</td>\n",
       "      <td>2</td>\n",
       "      <td>3</td>\n",
       "      <td>4</td>\n",
       "      <td>0</td>\n",
       "      <td>0.0</td>\n",
       "      <td>0</td>\n",
       "    </tr>\n",
       "    <tr>\n",
       "      <th>25971</th>\n",
       "      <td>78463</td>\n",
       "      <td>1</td>\n",
       "      <td>1</td>\n",
       "      <td>34</td>\n",
       "      <td>0</td>\n",
       "      <td>0</td>\n",
       "      <td>526</td>\n",
       "      <td>3</td>\n",
       "      <td>3</td>\n",
       "      <td>3</td>\n",
       "      <td>...</td>\n",
       "      <td>4</td>\n",
       "      <td>3</td>\n",
       "      <td>2</td>\n",
       "      <td>4</td>\n",
       "      <td>4</td>\n",
       "      <td>5</td>\n",
       "      <td>4</td>\n",
       "      <td>0</td>\n",
       "      <td>0.0</td>\n",
       "      <td>0</td>\n",
       "    </tr>\n",
       "    <tr>\n",
       "      <th>25972</th>\n",
       "      <td>71167</td>\n",
       "      <td>1</td>\n",
       "      <td>0</td>\n",
       "      <td>23</td>\n",
       "      <td>0</td>\n",
       "      <td>0</td>\n",
       "      <td>646</td>\n",
       "      <td>4</td>\n",
       "      <td>4</td>\n",
       "      <td>4</td>\n",
       "      <td>...</td>\n",
       "      <td>4</td>\n",
       "      <td>4</td>\n",
       "      <td>5</td>\n",
       "      <td>5</td>\n",
       "      <td>5</td>\n",
       "      <td>5</td>\n",
       "      <td>4</td>\n",
       "      <td>0</td>\n",
       "      <td>0.0</td>\n",
       "      <td>1</td>\n",
       "    </tr>\n",
       "    <tr>\n",
       "      <th>25973</th>\n",
       "      <td>37675</td>\n",
       "      <td>0</td>\n",
       "      <td>0</td>\n",
       "      <td>17</td>\n",
       "      <td>1</td>\n",
       "      <td>1</td>\n",
       "      <td>828</td>\n",
       "      <td>2</td>\n",
       "      <td>5</td>\n",
       "      <td>1</td>\n",
       "      <td>...</td>\n",
       "      <td>2</td>\n",
       "      <td>4</td>\n",
       "      <td>3</td>\n",
       "      <td>4</td>\n",
       "      <td>5</td>\n",
       "      <td>4</td>\n",
       "      <td>2</td>\n",
       "      <td>0</td>\n",
       "      <td>0.0</td>\n",
       "      <td>0</td>\n",
       "    </tr>\n",
       "    <tr>\n",
       "      <th>25974</th>\n",
       "      <td>90086</td>\n",
       "      <td>1</td>\n",
       "      <td>0</td>\n",
       "      <td>14</td>\n",
       "      <td>0</td>\n",
       "      <td>0</td>\n",
       "      <td>1127</td>\n",
       "      <td>3</td>\n",
       "      <td>3</td>\n",
       "      <td>3</td>\n",
       "      <td>...</td>\n",
       "      <td>4</td>\n",
       "      <td>3</td>\n",
       "      <td>2</td>\n",
       "      <td>5</td>\n",
       "      <td>4</td>\n",
       "      <td>5</td>\n",
       "      <td>4</td>\n",
       "      <td>0</td>\n",
       "      <td>0.0</td>\n",
       "      <td>1</td>\n",
       "    </tr>\n",
       "    <tr>\n",
       "      <th>25975</th>\n",
       "      <td>34799</td>\n",
       "      <td>0</td>\n",
       "      <td>0</td>\n",
       "      <td>42</td>\n",
       "      <td>1</td>\n",
       "      <td>1</td>\n",
       "      <td>264</td>\n",
       "      <td>2</td>\n",
       "      <td>5</td>\n",
       "      <td>2</td>\n",
       "      <td>...</td>\n",
       "      <td>1</td>\n",
       "      <td>1</td>\n",
       "      <td>2</td>\n",
       "      <td>1</td>\n",
       "      <td>1</td>\n",
       "      <td>1</td>\n",
       "      <td>1</td>\n",
       "      <td>0</td>\n",
       "      <td>0.0</td>\n",
       "      <td>0</td>\n",
       "    </tr>\n",
       "  </tbody>\n",
       "</table>\n",
       "<p>10 rows × 24 columns</p>\n",
       "</div>"
      ],
      "text/plain": [
       "           id  Gender  Customer Type  Age  Type of Travel  Class  \\\n",
       "25966   30263       1              1   42               0      1   \n",
       "25967   90347       0              1   39               0      0   \n",
       "25968   86816       1              0   41               0      1   \n",
       "25969  120654       1              0   52               0      0   \n",
       "25970   25309       0              1   36               0      1   \n",
       "25971   78463       1              1   34               0      0   \n",
       "25972   71167       1              0   23               0      0   \n",
       "25973   37675       0              0   17               1      1   \n",
       "25974   90086       1              0   14               0      0   \n",
       "25975   34799       0              0   42               1      1   \n",
       "\n",
       "       Flight Distance  Inflight wifi service  \\\n",
       "25966             1024                      4   \n",
       "25967              404                      1   \n",
       "25968              692                      2   \n",
       "25969              280                      3   \n",
       "25970              432                      1   \n",
       "25971              526                      3   \n",
       "25972              646                      4   \n",
       "25973              828                      2   \n",
       "25974             1127                      3   \n",
       "25975              264                      2   \n",
       "\n",
       "       Departure/Arrival time convenient  Ease of Online booking  ...  \\\n",
       "25966                                  4                       4  ...   \n",
       "25967                                  1                       1  ...   \n",
       "25968                                  2                       2  ...   \n",
       "25969                                  3                       3  ...   \n",
       "25970                                  5                       1  ...   \n",
       "25971                                  3                       3  ...   \n",
       "25972                                  4                       4  ...   \n",
       "25973                                  5                       1  ...   \n",
       "25974                                  3                       3  ...   \n",
       "25975                                  5                       2  ...   \n",
       "\n",
       "       Inflight entertainment  On-board service  Leg room service  \\\n",
       "25966                       3                 3                 1   \n",
       "25967                       2                 5                 3   \n",
       "25968                       2                 2                 3   \n",
       "25969                       4                 4                 4   \n",
       "25970                       4                 5                 2   \n",
       "25971                       4                 3                 2   \n",
       "25972                       4                 4                 5   \n",
       "25973                       2                 4                 3   \n",
       "25974                       4                 3                 2   \n",
       "25975                       1                 1                 2   \n",
       "\n",
       "       Baggage handling  Checkin service  Inflight service  Cleanliness  \\\n",
       "25966                 2                2                 3            3   \n",
       "25967                 4                4                 4            2   \n",
       "25968                 3                2                 3            2   \n",
       "25969                 4                3                 4            3   \n",
       "25970                 5                2                 3            4   \n",
       "25971                 4                4                 5            4   \n",
       "25972                 5                5                 5            4   \n",
       "25973                 4                5                 4            2   \n",
       "25974                 5                4                 5            4   \n",
       "25975                 1                1                 1            1   \n",
       "\n",
       "       Departure Delay in Minutes  Arrival Delay in Minutes  satisfaction  \n",
       "25966                           0                      17.0             0  \n",
       "25967                           0                       0.0             0  \n",
       "25968                          15                       3.0             0  \n",
       "25969                           0                       0.0             1  \n",
       "25970                           0                       0.0             0  \n",
       "25971                           0                       0.0             0  \n",
       "25972                           0                       0.0             1  \n",
       "25973                           0                       0.0             0  \n",
       "25974                           0                       0.0             1  \n",
       "25975                           0                       0.0             0  \n",
       "\n",
       "[10 rows x 24 columns]"
      ]
     },
     "execution_count": 68,
     "metadata": {},
     "output_type": "execute_result"
    }
   ],
   "source": [
    "df_test.tail(10)"
   ]
  },
  {
   "cell_type": "code",
   "execution_count": 6,
   "metadata": {},
   "outputs": [],
   "source": [
    "# Dropping The First Two Column In Both Datasets As It Is Unnamed And Seems To Be Index "
   ]
  },
  {
   "cell_type": "code",
   "execution_count": 7,
   "metadata": {},
   "outputs": [],
   "source": [
    "df_train.drop(['Unnamed: 0'], axis = 1, inplace = True)\n",
    "df_test.drop(['Unnamed: 0'], axis = 1, inplace = True)"
   ]
  },
  {
   "cell_type": "code",
   "execution_count": 8,
   "metadata": {},
   "outputs": [],
   "source": [
    "# Overview Of The Dataset"
   ]
  },
  {
   "cell_type": "code",
   "execution_count": 9,
   "metadata": {
    "scrolled": true
   },
   "outputs": [
    {
     "data": {
      "text/html": [
       "<div>\n",
       "<style scoped>\n",
       "    .dataframe tbody tr th:only-of-type {\n",
       "        vertical-align: middle;\n",
       "    }\n",
       "\n",
       "    .dataframe tbody tr th {\n",
       "        vertical-align: top;\n",
       "    }\n",
       "\n",
       "    .dataframe thead th {\n",
       "        text-align: right;\n",
       "    }\n",
       "</style>\n",
       "<table border=\"1\" class=\"dataframe\">\n",
       "  <thead>\n",
       "    <tr style=\"text-align: right;\">\n",
       "      <th></th>\n",
       "      <th>id</th>\n",
       "      <th>Gender</th>\n",
       "      <th>Customer Type</th>\n",
       "      <th>Age</th>\n",
       "      <th>Type of Travel</th>\n",
       "      <th>Class</th>\n",
       "      <th>Flight Distance</th>\n",
       "      <th>Inflight wifi service</th>\n",
       "      <th>Departure/Arrival time convenient</th>\n",
       "      <th>Ease of Online booking</th>\n",
       "      <th>...</th>\n",
       "      <th>Inflight entertainment</th>\n",
       "      <th>On-board service</th>\n",
       "      <th>Leg room service</th>\n",
       "      <th>Baggage handling</th>\n",
       "      <th>Checkin service</th>\n",
       "      <th>Inflight service</th>\n",
       "      <th>Cleanliness</th>\n",
       "      <th>Departure Delay in Minutes</th>\n",
       "      <th>Arrival Delay in Minutes</th>\n",
       "      <th>satisfaction</th>\n",
       "    </tr>\n",
       "  </thead>\n",
       "  <tbody>\n",
       "    <tr>\n",
       "      <th>0</th>\n",
       "      <td>70172</td>\n",
       "      <td>Male</td>\n",
       "      <td>Loyal Customer</td>\n",
       "      <td>13</td>\n",
       "      <td>Personal Travel</td>\n",
       "      <td>Eco Plus</td>\n",
       "      <td>460</td>\n",
       "      <td>3</td>\n",
       "      <td>4</td>\n",
       "      <td>3</td>\n",
       "      <td>...</td>\n",
       "      <td>5</td>\n",
       "      <td>4</td>\n",
       "      <td>3</td>\n",
       "      <td>4</td>\n",
       "      <td>4</td>\n",
       "      <td>5</td>\n",
       "      <td>5</td>\n",
       "      <td>25</td>\n",
       "      <td>18.0</td>\n",
       "      <td>neutral or dissatisfied</td>\n",
       "    </tr>\n",
       "    <tr>\n",
       "      <th>1</th>\n",
       "      <td>5047</td>\n",
       "      <td>Male</td>\n",
       "      <td>disloyal Customer</td>\n",
       "      <td>25</td>\n",
       "      <td>Business travel</td>\n",
       "      <td>Business</td>\n",
       "      <td>235</td>\n",
       "      <td>3</td>\n",
       "      <td>2</td>\n",
       "      <td>3</td>\n",
       "      <td>...</td>\n",
       "      <td>1</td>\n",
       "      <td>1</td>\n",
       "      <td>5</td>\n",
       "      <td>3</td>\n",
       "      <td>1</td>\n",
       "      <td>4</td>\n",
       "      <td>1</td>\n",
       "      <td>1</td>\n",
       "      <td>6.0</td>\n",
       "      <td>neutral or dissatisfied</td>\n",
       "    </tr>\n",
       "    <tr>\n",
       "      <th>2</th>\n",
       "      <td>110028</td>\n",
       "      <td>Female</td>\n",
       "      <td>Loyal Customer</td>\n",
       "      <td>26</td>\n",
       "      <td>Business travel</td>\n",
       "      <td>Business</td>\n",
       "      <td>1142</td>\n",
       "      <td>2</td>\n",
       "      <td>2</td>\n",
       "      <td>2</td>\n",
       "      <td>...</td>\n",
       "      <td>5</td>\n",
       "      <td>4</td>\n",
       "      <td>3</td>\n",
       "      <td>4</td>\n",
       "      <td>4</td>\n",
       "      <td>4</td>\n",
       "      <td>5</td>\n",
       "      <td>0</td>\n",
       "      <td>0.0</td>\n",
       "      <td>satisfied</td>\n",
       "    </tr>\n",
       "    <tr>\n",
       "      <th>3</th>\n",
       "      <td>24026</td>\n",
       "      <td>Female</td>\n",
       "      <td>Loyal Customer</td>\n",
       "      <td>25</td>\n",
       "      <td>Business travel</td>\n",
       "      <td>Business</td>\n",
       "      <td>562</td>\n",
       "      <td>2</td>\n",
       "      <td>5</td>\n",
       "      <td>5</td>\n",
       "      <td>...</td>\n",
       "      <td>2</td>\n",
       "      <td>2</td>\n",
       "      <td>5</td>\n",
       "      <td>3</td>\n",
       "      <td>1</td>\n",
       "      <td>4</td>\n",
       "      <td>2</td>\n",
       "      <td>11</td>\n",
       "      <td>9.0</td>\n",
       "      <td>neutral or dissatisfied</td>\n",
       "    </tr>\n",
       "    <tr>\n",
       "      <th>4</th>\n",
       "      <td>119299</td>\n",
       "      <td>Male</td>\n",
       "      <td>Loyal Customer</td>\n",
       "      <td>61</td>\n",
       "      <td>Business travel</td>\n",
       "      <td>Business</td>\n",
       "      <td>214</td>\n",
       "      <td>3</td>\n",
       "      <td>3</td>\n",
       "      <td>3</td>\n",
       "      <td>...</td>\n",
       "      <td>3</td>\n",
       "      <td>3</td>\n",
       "      <td>4</td>\n",
       "      <td>4</td>\n",
       "      <td>3</td>\n",
       "      <td>3</td>\n",
       "      <td>3</td>\n",
       "      <td>0</td>\n",
       "      <td>0.0</td>\n",
       "      <td>satisfied</td>\n",
       "    </tr>\n",
       "  </tbody>\n",
       "</table>\n",
       "<p>5 rows × 24 columns</p>\n",
       "</div>"
      ],
      "text/plain": [
       "       id  Gender      Customer Type  Age   Type of Travel     Class  \\\n",
       "0   70172    Male     Loyal Customer   13  Personal Travel  Eco Plus   \n",
       "1    5047    Male  disloyal Customer   25  Business travel  Business   \n",
       "2  110028  Female     Loyal Customer   26  Business travel  Business   \n",
       "3   24026  Female     Loyal Customer   25  Business travel  Business   \n",
       "4  119299    Male     Loyal Customer   61  Business travel  Business   \n",
       "\n",
       "   Flight Distance  Inflight wifi service  Departure/Arrival time convenient  \\\n",
       "0              460                      3                                  4   \n",
       "1              235                      3                                  2   \n",
       "2             1142                      2                                  2   \n",
       "3              562                      2                                  5   \n",
       "4              214                      3                                  3   \n",
       "\n",
       "   Ease of Online booking  ...  Inflight entertainment  On-board service  \\\n",
       "0                       3  ...                       5                 4   \n",
       "1                       3  ...                       1                 1   \n",
       "2                       2  ...                       5                 4   \n",
       "3                       5  ...                       2                 2   \n",
       "4                       3  ...                       3                 3   \n",
       "\n",
       "   Leg room service  Baggage handling  Checkin service  Inflight service  \\\n",
       "0                 3                 4                4                 5   \n",
       "1                 5                 3                1                 4   \n",
       "2                 3                 4                4                 4   \n",
       "3                 5                 3                1                 4   \n",
       "4                 4                 4                3                 3   \n",
       "\n",
       "   Cleanliness  Departure Delay in Minutes  Arrival Delay in Minutes  \\\n",
       "0            5                          25                      18.0   \n",
       "1            1                           1                       6.0   \n",
       "2            5                           0                       0.0   \n",
       "3            2                          11                       9.0   \n",
       "4            3                           0                       0.0   \n",
       "\n",
       "              satisfaction  \n",
       "0  neutral or dissatisfied  \n",
       "1  neutral or dissatisfied  \n",
       "2                satisfied  \n",
       "3  neutral or dissatisfied  \n",
       "4                satisfied  \n",
       "\n",
       "[5 rows x 24 columns]"
      ]
     },
     "execution_count": 9,
     "metadata": {},
     "output_type": "execute_result"
    }
   ],
   "source": [
    "df_train.head()"
   ]
  },
  {
   "cell_type": "code",
   "execution_count": 10,
   "metadata": {},
   "outputs": [
    {
     "data": {
      "text/plain": [
       "(103904, 24)"
      ]
     },
     "execution_count": 10,
     "metadata": {},
     "output_type": "execute_result"
    }
   ],
   "source": [
    "df_train.shape"
   ]
  },
  {
   "cell_type": "code",
   "execution_count": 11,
   "metadata": {
    "scrolled": true
   },
   "outputs": [
    {
     "data": {
      "text/html": [
       "<div>\n",
       "<style scoped>\n",
       "    .dataframe tbody tr th:only-of-type {\n",
       "        vertical-align: middle;\n",
       "    }\n",
       "\n",
       "    .dataframe tbody tr th {\n",
       "        vertical-align: top;\n",
       "    }\n",
       "\n",
       "    .dataframe thead th {\n",
       "        text-align: right;\n",
       "    }\n",
       "</style>\n",
       "<table border=\"1\" class=\"dataframe\">\n",
       "  <thead>\n",
       "    <tr style=\"text-align: right;\">\n",
       "      <th></th>\n",
       "      <th>id</th>\n",
       "      <th>Gender</th>\n",
       "      <th>Customer Type</th>\n",
       "      <th>Age</th>\n",
       "      <th>Type of Travel</th>\n",
       "      <th>Class</th>\n",
       "      <th>Flight Distance</th>\n",
       "      <th>Inflight wifi service</th>\n",
       "      <th>Departure/Arrival time convenient</th>\n",
       "      <th>Ease of Online booking</th>\n",
       "      <th>...</th>\n",
       "      <th>Inflight entertainment</th>\n",
       "      <th>On-board service</th>\n",
       "      <th>Leg room service</th>\n",
       "      <th>Baggage handling</th>\n",
       "      <th>Checkin service</th>\n",
       "      <th>Inflight service</th>\n",
       "      <th>Cleanliness</th>\n",
       "      <th>Departure Delay in Minutes</th>\n",
       "      <th>Arrival Delay in Minutes</th>\n",
       "      <th>satisfaction</th>\n",
       "    </tr>\n",
       "  </thead>\n",
       "  <tbody>\n",
       "    <tr>\n",
       "      <th>0</th>\n",
       "      <td>19556</td>\n",
       "      <td>Female</td>\n",
       "      <td>Loyal Customer</td>\n",
       "      <td>52</td>\n",
       "      <td>Business travel</td>\n",
       "      <td>Eco</td>\n",
       "      <td>160</td>\n",
       "      <td>5</td>\n",
       "      <td>4</td>\n",
       "      <td>3</td>\n",
       "      <td>...</td>\n",
       "      <td>5</td>\n",
       "      <td>5</td>\n",
       "      <td>5</td>\n",
       "      <td>5</td>\n",
       "      <td>2</td>\n",
       "      <td>5</td>\n",
       "      <td>5</td>\n",
       "      <td>50</td>\n",
       "      <td>44.0</td>\n",
       "      <td>satisfied</td>\n",
       "    </tr>\n",
       "    <tr>\n",
       "      <th>1</th>\n",
       "      <td>90035</td>\n",
       "      <td>Female</td>\n",
       "      <td>Loyal Customer</td>\n",
       "      <td>36</td>\n",
       "      <td>Business travel</td>\n",
       "      <td>Business</td>\n",
       "      <td>2863</td>\n",
       "      <td>1</td>\n",
       "      <td>1</td>\n",
       "      <td>3</td>\n",
       "      <td>...</td>\n",
       "      <td>4</td>\n",
       "      <td>4</td>\n",
       "      <td>4</td>\n",
       "      <td>4</td>\n",
       "      <td>3</td>\n",
       "      <td>4</td>\n",
       "      <td>5</td>\n",
       "      <td>0</td>\n",
       "      <td>0.0</td>\n",
       "      <td>satisfied</td>\n",
       "    </tr>\n",
       "    <tr>\n",
       "      <th>2</th>\n",
       "      <td>12360</td>\n",
       "      <td>Male</td>\n",
       "      <td>disloyal Customer</td>\n",
       "      <td>20</td>\n",
       "      <td>Business travel</td>\n",
       "      <td>Eco</td>\n",
       "      <td>192</td>\n",
       "      <td>2</td>\n",
       "      <td>0</td>\n",
       "      <td>2</td>\n",
       "      <td>...</td>\n",
       "      <td>2</td>\n",
       "      <td>4</td>\n",
       "      <td>1</td>\n",
       "      <td>3</td>\n",
       "      <td>2</td>\n",
       "      <td>2</td>\n",
       "      <td>2</td>\n",
       "      <td>0</td>\n",
       "      <td>0.0</td>\n",
       "      <td>neutral or dissatisfied</td>\n",
       "    </tr>\n",
       "    <tr>\n",
       "      <th>3</th>\n",
       "      <td>77959</td>\n",
       "      <td>Male</td>\n",
       "      <td>Loyal Customer</td>\n",
       "      <td>44</td>\n",
       "      <td>Business travel</td>\n",
       "      <td>Business</td>\n",
       "      <td>3377</td>\n",
       "      <td>0</td>\n",
       "      <td>0</td>\n",
       "      <td>0</td>\n",
       "      <td>...</td>\n",
       "      <td>1</td>\n",
       "      <td>1</td>\n",
       "      <td>1</td>\n",
       "      <td>1</td>\n",
       "      <td>3</td>\n",
       "      <td>1</td>\n",
       "      <td>4</td>\n",
       "      <td>0</td>\n",
       "      <td>6.0</td>\n",
       "      <td>satisfied</td>\n",
       "    </tr>\n",
       "    <tr>\n",
       "      <th>4</th>\n",
       "      <td>36875</td>\n",
       "      <td>Female</td>\n",
       "      <td>Loyal Customer</td>\n",
       "      <td>49</td>\n",
       "      <td>Business travel</td>\n",
       "      <td>Eco</td>\n",
       "      <td>1182</td>\n",
       "      <td>2</td>\n",
       "      <td>3</td>\n",
       "      <td>4</td>\n",
       "      <td>...</td>\n",
       "      <td>2</td>\n",
       "      <td>2</td>\n",
       "      <td>2</td>\n",
       "      <td>2</td>\n",
       "      <td>4</td>\n",
       "      <td>2</td>\n",
       "      <td>4</td>\n",
       "      <td>0</td>\n",
       "      <td>20.0</td>\n",
       "      <td>satisfied</td>\n",
       "    </tr>\n",
       "  </tbody>\n",
       "</table>\n",
       "<p>5 rows × 24 columns</p>\n",
       "</div>"
      ],
      "text/plain": [
       "      id  Gender      Customer Type  Age   Type of Travel     Class  \\\n",
       "0  19556  Female     Loyal Customer   52  Business travel       Eco   \n",
       "1  90035  Female     Loyal Customer   36  Business travel  Business   \n",
       "2  12360    Male  disloyal Customer   20  Business travel       Eco   \n",
       "3  77959    Male     Loyal Customer   44  Business travel  Business   \n",
       "4  36875  Female     Loyal Customer   49  Business travel       Eco   \n",
       "\n",
       "   Flight Distance  Inflight wifi service  Departure/Arrival time convenient  \\\n",
       "0              160                      5                                  4   \n",
       "1             2863                      1                                  1   \n",
       "2              192                      2                                  0   \n",
       "3             3377                      0                                  0   \n",
       "4             1182                      2                                  3   \n",
       "\n",
       "   Ease of Online booking  ...  Inflight entertainment  On-board service  \\\n",
       "0                       3  ...                       5                 5   \n",
       "1                       3  ...                       4                 4   \n",
       "2                       2  ...                       2                 4   \n",
       "3                       0  ...                       1                 1   \n",
       "4                       4  ...                       2                 2   \n",
       "\n",
       "   Leg room service  Baggage handling  Checkin service  Inflight service  \\\n",
       "0                 5                 5                2                 5   \n",
       "1                 4                 4                3                 4   \n",
       "2                 1                 3                2                 2   \n",
       "3                 1                 1                3                 1   \n",
       "4                 2                 2                4                 2   \n",
       "\n",
       "   Cleanliness  Departure Delay in Minutes  Arrival Delay in Minutes  \\\n",
       "0            5                          50                      44.0   \n",
       "1            5                           0                       0.0   \n",
       "2            2                           0                       0.0   \n",
       "3            4                           0                       6.0   \n",
       "4            4                           0                      20.0   \n",
       "\n",
       "              satisfaction  \n",
       "0                satisfied  \n",
       "1                satisfied  \n",
       "2  neutral or dissatisfied  \n",
       "3                satisfied  \n",
       "4                satisfied  \n",
       "\n",
       "[5 rows x 24 columns]"
      ]
     },
     "execution_count": 11,
     "metadata": {},
     "output_type": "execute_result"
    }
   ],
   "source": [
    "df_test.head()"
   ]
  },
  {
   "cell_type": "code",
   "execution_count": 12,
   "metadata": {},
   "outputs": [
    {
     "data": {
      "text/plain": [
       "(25976, 24)"
      ]
     },
     "execution_count": 12,
     "metadata": {},
     "output_type": "execute_result"
    }
   ],
   "source": [
    "df_test.shape"
   ]
  },
  {
   "cell_type": "code",
   "execution_count": 13,
   "metadata": {},
   "outputs": [],
   "source": [
    "# Columns In The Dataset"
   ]
  },
  {
   "cell_type": "code",
   "execution_count": 14,
   "metadata": {},
   "outputs": [
    {
     "data": {
      "text/plain": [
       "Index(['id', 'Gender', 'Customer Type', 'Age', 'Type of Travel', 'Class',\n",
       "       'Flight Distance', 'Inflight wifi service',\n",
       "       'Departure/Arrival time convenient', 'Ease of Online booking',\n",
       "       'Gate location', 'Food and drink', 'Online boarding', 'Seat comfort',\n",
       "       'Inflight entertainment', 'On-board service', 'Leg room service',\n",
       "       'Baggage handling', 'Checkin service', 'Inflight service',\n",
       "       'Cleanliness', 'Departure Delay in Minutes', 'Arrival Delay in Minutes',\n",
       "       'satisfaction'],\n",
       "      dtype='object')"
      ]
     },
     "execution_count": 14,
     "metadata": {},
     "output_type": "execute_result"
    }
   ],
   "source": [
    "df_train.columns"
   ]
  },
  {
   "cell_type": "code",
   "execution_count": 15,
   "metadata": {},
   "outputs": [],
   "source": [
    "# Data Types Of All The Features In Dataset"
   ]
  },
  {
   "cell_type": "code",
   "execution_count": 16,
   "metadata": {},
   "outputs": [
    {
     "data": {
      "text/plain": [
       "id                                     int64\n",
       "Gender                                object\n",
       "Customer Type                         object\n",
       "Age                                    int64\n",
       "Type of Travel                        object\n",
       "Class                                 object\n",
       "Flight Distance                        int64\n",
       "Inflight wifi service                  int64\n",
       "Departure/Arrival time convenient      int64\n",
       "Ease of Online booking                 int64\n",
       "Gate location                          int64\n",
       "Food and drink                         int64\n",
       "Online boarding                        int64\n",
       "Seat comfort                           int64\n",
       "Inflight entertainment                 int64\n",
       "On-board service                       int64\n",
       "Leg room service                       int64\n",
       "Baggage handling                       int64\n",
       "Checkin service                        int64\n",
       "Inflight service                       int64\n",
       "Cleanliness                            int64\n",
       "Departure Delay in Minutes             int64\n",
       "Arrival Delay in Minutes             float64\n",
       "satisfaction                          object\n",
       "dtype: object"
      ]
     },
     "execution_count": 16,
     "metadata": {},
     "output_type": "execute_result"
    }
   ],
   "source": [
    "df_train.dtypes"
   ]
  },
  {
   "cell_type": "code",
   "execution_count": 17,
   "metadata": {},
   "outputs": [],
   "source": [
    "# As Satisfaction Is Our Target Tariable Let's See Type Of Satisfaction Present In Your Dataset"
   ]
  },
  {
   "cell_type": "code",
   "execution_count": 18,
   "metadata": {},
   "outputs": [
    {
     "data": {
      "text/plain": [
       "neutral or dissatisfied    58879\n",
       "satisfied                  45025\n",
       "Name: satisfaction, dtype: int64"
      ]
     },
     "execution_count": 18,
     "metadata": {},
     "output_type": "execute_result"
    }
   ],
   "source": [
    "df_train['satisfaction'].value_counts()"
   ]
  },
  {
   "cell_type": "code",
   "execution_count": 19,
   "metadata": {},
   "outputs": [
    {
     "name": "stdout",
     "output_type": "stream",
     "text": [
      "<class 'pandas.core.frame.DataFrame'>\n",
      "RangeIndex: 103904 entries, 0 to 103903\n",
      "Data columns (total 24 columns):\n",
      " #   Column                             Non-Null Count   Dtype  \n",
      "---  ------                             --------------   -----  \n",
      " 0   id                                 103904 non-null  int64  \n",
      " 1   Gender                             103904 non-null  object \n",
      " 2   Customer Type                      103904 non-null  object \n",
      " 3   Age                                103904 non-null  int64  \n",
      " 4   Type of Travel                     103904 non-null  object \n",
      " 5   Class                              103904 non-null  object \n",
      " 6   Flight Distance                    103904 non-null  int64  \n",
      " 7   Inflight wifi service              103904 non-null  int64  \n",
      " 8   Departure/Arrival time convenient  103904 non-null  int64  \n",
      " 9   Ease of Online booking             103904 non-null  int64  \n",
      " 10  Gate location                      103904 non-null  int64  \n",
      " 11  Food and drink                     103904 non-null  int64  \n",
      " 12  Online boarding                    103904 non-null  int64  \n",
      " 13  Seat comfort                       103904 non-null  int64  \n",
      " 14  Inflight entertainment             103904 non-null  int64  \n",
      " 15  On-board service                   103904 non-null  int64  \n",
      " 16  Leg room service                   103904 non-null  int64  \n",
      " 17  Baggage handling                   103904 non-null  int64  \n",
      " 18  Checkin service                    103904 non-null  int64  \n",
      " 19  Inflight service                   103904 non-null  int64  \n",
      " 20  Cleanliness                        103904 non-null  int64  \n",
      " 21  Departure Delay in Minutes         103904 non-null  int64  \n",
      " 22  Arrival Delay in Minutes           103594 non-null  float64\n",
      " 23  satisfaction                       103904 non-null  object \n",
      "dtypes: float64(1), int64(18), object(5)\n",
      "memory usage: 19.0+ MB\n"
     ]
    }
   ],
   "source": [
    "df_train.info()"
   ]
  },
  {
   "cell_type": "markdown",
   "metadata": {},
   "source": [
    "# Finding null value."
   ]
  },
  {
   "cell_type": "code",
   "execution_count": 20,
   "metadata": {},
   "outputs": [
    {
     "data": {
      "text/plain": [
       "id                                     0\n",
       "Gender                                 0\n",
       "Customer Type                          0\n",
       "Age                                    0\n",
       "Type of Travel                         0\n",
       "Class                                  0\n",
       "Flight Distance                        0\n",
       "Inflight wifi service                  0\n",
       "Departure/Arrival time convenient      0\n",
       "Ease of Online booking                 0\n",
       "Gate location                          0\n",
       "Food and drink                         0\n",
       "Online boarding                        0\n",
       "Seat comfort                           0\n",
       "Inflight entertainment                 0\n",
       "On-board service                       0\n",
       "Leg room service                       0\n",
       "Baggage handling                       0\n",
       "Checkin service                        0\n",
       "Inflight service                       0\n",
       "Cleanliness                            0\n",
       "Departure Delay in Minutes             0\n",
       "Arrival Delay in Minutes             310\n",
       "satisfaction                           0\n",
       "dtype: int64"
      ]
     },
     "execution_count": 20,
     "metadata": {},
     "output_type": "execute_result"
    }
   ],
   "source": [
    "df_train.isna().sum()"
   ]
  },
  {
   "cell_type": "markdown",
   "metadata": {},
   "source": [
    "So We Can See That There Is Null Vlaue Present In \"Arrival Delay in Minutes - 310\" Columns \n",
    "Which We Can Fill It With The Help Of Mean Method."
   ]
  },
  {
   "cell_type": "code",
   "execution_count": 21,
   "metadata": {},
   "outputs": [],
   "source": [
    "df_train[\"Arrival Delay in Minutes\"]=df_train[\"Arrival Delay in Minutes\"].fillna(np.mean(df_train[\"Arrival Delay in Minutes\"]))"
   ]
  },
  {
   "cell_type": "code",
   "execution_count": 22,
   "metadata": {},
   "outputs": [
    {
     "data": {
      "text/plain": [
       "id                                   0\n",
       "Gender                               0\n",
       "Customer Type                        0\n",
       "Age                                  0\n",
       "Type of Travel                       0\n",
       "Class                                0\n",
       "Flight Distance                      0\n",
       "Inflight wifi service                0\n",
       "Departure/Arrival time convenient    0\n",
       "Ease of Online booking               0\n",
       "Gate location                        0\n",
       "Food and drink                       0\n",
       "Online boarding                      0\n",
       "Seat comfort                         0\n",
       "Inflight entertainment               0\n",
       "On-board service                     0\n",
       "Leg room service                     0\n",
       "Baggage handling                     0\n",
       "Checkin service                      0\n",
       "Inflight service                     0\n",
       "Cleanliness                          0\n",
       "Departure Delay in Minutes           0\n",
       "Arrival Delay in Minutes             0\n",
       "satisfaction                         0\n",
       "dtype: int64"
      ]
     },
     "execution_count": 22,
     "metadata": {},
     "output_type": "execute_result"
    }
   ],
   "source": [
    "df_train.isna().sum()"
   ]
  },
  {
   "cell_type": "markdown",
   "metadata": {},
   "source": [
    "So as we can see know there is no nullvalue present in dataset "
   ]
  },
  {
   "cell_type": "markdown",
   "metadata": {},
   "source": [
    "# Duplicate value"
   ]
  },
  {
   "cell_type": "code",
   "execution_count": 23,
   "metadata": {},
   "outputs": [
    {
     "data": {
      "text/plain": [
       "0"
      ]
     },
     "execution_count": 23,
     "metadata": {},
     "output_type": "execute_result"
    }
   ],
   "source": [
    "df_train.duplicated().sum()"
   ]
  },
  {
   "cell_type": "markdown",
   "metadata": {},
   "source": [
    "No duplicated value present in this dataset"
   ]
  },
  {
   "cell_type": "code",
   "execution_count": 24,
   "metadata": {},
   "outputs": [
    {
     "data": {
      "text/html": [
       "<div>\n",
       "<style scoped>\n",
       "    .dataframe tbody tr th:only-of-type {\n",
       "        vertical-align: middle;\n",
       "    }\n",
       "\n",
       "    .dataframe tbody tr th {\n",
       "        vertical-align: top;\n",
       "    }\n",
       "\n",
       "    .dataframe thead th {\n",
       "        text-align: right;\n",
       "    }\n",
       "</style>\n",
       "<table border=\"1\" class=\"dataframe\">\n",
       "  <thead>\n",
       "    <tr style=\"text-align: right;\">\n",
       "      <th></th>\n",
       "      <th>count</th>\n",
       "      <th>mean</th>\n",
       "      <th>std</th>\n",
       "      <th>min</th>\n",
       "      <th>25%</th>\n",
       "      <th>50%</th>\n",
       "      <th>75%</th>\n",
       "      <th>max</th>\n",
       "    </tr>\n",
       "  </thead>\n",
       "  <tbody>\n",
       "    <tr>\n",
       "      <th>id</th>\n",
       "      <td>103904.0</td>\n",
       "      <td>64924.210502</td>\n",
       "      <td>37463.812252</td>\n",
       "      <td>1.0</td>\n",
       "      <td>32533.75</td>\n",
       "      <td>64856.5</td>\n",
       "      <td>97368.25</td>\n",
       "      <td>129880.0</td>\n",
       "    </tr>\n",
       "    <tr>\n",
       "      <th>Age</th>\n",
       "      <td>103904.0</td>\n",
       "      <td>39.379706</td>\n",
       "      <td>15.114964</td>\n",
       "      <td>7.0</td>\n",
       "      <td>27.00</td>\n",
       "      <td>40.0</td>\n",
       "      <td>51.00</td>\n",
       "      <td>85.0</td>\n",
       "    </tr>\n",
       "    <tr>\n",
       "      <th>Flight Distance</th>\n",
       "      <td>103904.0</td>\n",
       "      <td>1189.448375</td>\n",
       "      <td>997.147281</td>\n",
       "      <td>31.0</td>\n",
       "      <td>414.00</td>\n",
       "      <td>843.0</td>\n",
       "      <td>1743.00</td>\n",
       "      <td>4983.0</td>\n",
       "    </tr>\n",
       "    <tr>\n",
       "      <th>Inflight wifi service</th>\n",
       "      <td>103904.0</td>\n",
       "      <td>2.729683</td>\n",
       "      <td>1.327829</td>\n",
       "      <td>0.0</td>\n",
       "      <td>2.00</td>\n",
       "      <td>3.0</td>\n",
       "      <td>4.00</td>\n",
       "      <td>5.0</td>\n",
       "    </tr>\n",
       "    <tr>\n",
       "      <th>Departure/Arrival time convenient</th>\n",
       "      <td>103904.0</td>\n",
       "      <td>3.060296</td>\n",
       "      <td>1.525075</td>\n",
       "      <td>0.0</td>\n",
       "      <td>2.00</td>\n",
       "      <td>3.0</td>\n",
       "      <td>4.00</td>\n",
       "      <td>5.0</td>\n",
       "    </tr>\n",
       "    <tr>\n",
       "      <th>Ease of Online booking</th>\n",
       "      <td>103904.0</td>\n",
       "      <td>2.756901</td>\n",
       "      <td>1.398929</td>\n",
       "      <td>0.0</td>\n",
       "      <td>2.00</td>\n",
       "      <td>3.0</td>\n",
       "      <td>4.00</td>\n",
       "      <td>5.0</td>\n",
       "    </tr>\n",
       "    <tr>\n",
       "      <th>Gate location</th>\n",
       "      <td>103904.0</td>\n",
       "      <td>2.976883</td>\n",
       "      <td>1.277621</td>\n",
       "      <td>0.0</td>\n",
       "      <td>2.00</td>\n",
       "      <td>3.0</td>\n",
       "      <td>4.00</td>\n",
       "      <td>5.0</td>\n",
       "    </tr>\n",
       "    <tr>\n",
       "      <th>Food and drink</th>\n",
       "      <td>103904.0</td>\n",
       "      <td>3.202129</td>\n",
       "      <td>1.329533</td>\n",
       "      <td>0.0</td>\n",
       "      <td>2.00</td>\n",
       "      <td>3.0</td>\n",
       "      <td>4.00</td>\n",
       "      <td>5.0</td>\n",
       "    </tr>\n",
       "    <tr>\n",
       "      <th>Online boarding</th>\n",
       "      <td>103904.0</td>\n",
       "      <td>3.250375</td>\n",
       "      <td>1.349509</td>\n",
       "      <td>0.0</td>\n",
       "      <td>2.00</td>\n",
       "      <td>3.0</td>\n",
       "      <td>4.00</td>\n",
       "      <td>5.0</td>\n",
       "    </tr>\n",
       "    <tr>\n",
       "      <th>Seat comfort</th>\n",
       "      <td>103904.0</td>\n",
       "      <td>3.439396</td>\n",
       "      <td>1.319088</td>\n",
       "      <td>0.0</td>\n",
       "      <td>2.00</td>\n",
       "      <td>4.0</td>\n",
       "      <td>5.00</td>\n",
       "      <td>5.0</td>\n",
       "    </tr>\n",
       "    <tr>\n",
       "      <th>Inflight entertainment</th>\n",
       "      <td>103904.0</td>\n",
       "      <td>3.358158</td>\n",
       "      <td>1.332991</td>\n",
       "      <td>0.0</td>\n",
       "      <td>2.00</td>\n",
       "      <td>4.0</td>\n",
       "      <td>4.00</td>\n",
       "      <td>5.0</td>\n",
       "    </tr>\n",
       "    <tr>\n",
       "      <th>On-board service</th>\n",
       "      <td>103904.0</td>\n",
       "      <td>3.382363</td>\n",
       "      <td>1.288354</td>\n",
       "      <td>0.0</td>\n",
       "      <td>2.00</td>\n",
       "      <td>4.0</td>\n",
       "      <td>4.00</td>\n",
       "      <td>5.0</td>\n",
       "    </tr>\n",
       "    <tr>\n",
       "      <th>Leg room service</th>\n",
       "      <td>103904.0</td>\n",
       "      <td>3.351055</td>\n",
       "      <td>1.315605</td>\n",
       "      <td>0.0</td>\n",
       "      <td>2.00</td>\n",
       "      <td>4.0</td>\n",
       "      <td>4.00</td>\n",
       "      <td>5.0</td>\n",
       "    </tr>\n",
       "    <tr>\n",
       "      <th>Baggage handling</th>\n",
       "      <td>103904.0</td>\n",
       "      <td>3.631833</td>\n",
       "      <td>1.180903</td>\n",
       "      <td>1.0</td>\n",
       "      <td>3.00</td>\n",
       "      <td>4.0</td>\n",
       "      <td>5.00</td>\n",
       "      <td>5.0</td>\n",
       "    </tr>\n",
       "    <tr>\n",
       "      <th>Checkin service</th>\n",
       "      <td>103904.0</td>\n",
       "      <td>3.304290</td>\n",
       "      <td>1.265396</td>\n",
       "      <td>0.0</td>\n",
       "      <td>3.00</td>\n",
       "      <td>3.0</td>\n",
       "      <td>4.00</td>\n",
       "      <td>5.0</td>\n",
       "    </tr>\n",
       "    <tr>\n",
       "      <th>Inflight service</th>\n",
       "      <td>103904.0</td>\n",
       "      <td>3.640428</td>\n",
       "      <td>1.175663</td>\n",
       "      <td>0.0</td>\n",
       "      <td>3.00</td>\n",
       "      <td>4.0</td>\n",
       "      <td>5.00</td>\n",
       "      <td>5.0</td>\n",
       "    </tr>\n",
       "    <tr>\n",
       "      <th>Cleanliness</th>\n",
       "      <td>103904.0</td>\n",
       "      <td>3.286351</td>\n",
       "      <td>1.312273</td>\n",
       "      <td>0.0</td>\n",
       "      <td>2.00</td>\n",
       "      <td>3.0</td>\n",
       "      <td>4.00</td>\n",
       "      <td>5.0</td>\n",
       "    </tr>\n",
       "    <tr>\n",
       "      <th>Departure Delay in Minutes</th>\n",
       "      <td>103904.0</td>\n",
       "      <td>14.815618</td>\n",
       "      <td>38.230901</td>\n",
       "      <td>0.0</td>\n",
       "      <td>0.00</td>\n",
       "      <td>0.0</td>\n",
       "      <td>12.00</td>\n",
       "      <td>1592.0</td>\n",
       "    </tr>\n",
       "    <tr>\n",
       "      <th>Arrival Delay in Minutes</th>\n",
       "      <td>103904.0</td>\n",
       "      <td>15.178678</td>\n",
       "      <td>38.640909</td>\n",
       "      <td>0.0</td>\n",
       "      <td>0.00</td>\n",
       "      <td>0.0</td>\n",
       "      <td>13.00</td>\n",
       "      <td>1584.0</td>\n",
       "    </tr>\n",
       "  </tbody>\n",
       "</table>\n",
       "</div>"
      ],
      "text/plain": [
       "                                      count          mean           std   min  \\\n",
       "id                                 103904.0  64924.210502  37463.812252   1.0   \n",
       "Age                                103904.0     39.379706     15.114964   7.0   \n",
       "Flight Distance                    103904.0   1189.448375    997.147281  31.0   \n",
       "Inflight wifi service              103904.0      2.729683      1.327829   0.0   \n",
       "Departure/Arrival time convenient  103904.0      3.060296      1.525075   0.0   \n",
       "Ease of Online booking             103904.0      2.756901      1.398929   0.0   \n",
       "Gate location                      103904.0      2.976883      1.277621   0.0   \n",
       "Food and drink                     103904.0      3.202129      1.329533   0.0   \n",
       "Online boarding                    103904.0      3.250375      1.349509   0.0   \n",
       "Seat comfort                       103904.0      3.439396      1.319088   0.0   \n",
       "Inflight entertainment             103904.0      3.358158      1.332991   0.0   \n",
       "On-board service                   103904.0      3.382363      1.288354   0.0   \n",
       "Leg room service                   103904.0      3.351055      1.315605   0.0   \n",
       "Baggage handling                   103904.0      3.631833      1.180903   1.0   \n",
       "Checkin service                    103904.0      3.304290      1.265396   0.0   \n",
       "Inflight service                   103904.0      3.640428      1.175663   0.0   \n",
       "Cleanliness                        103904.0      3.286351      1.312273   0.0   \n",
       "Departure Delay in Minutes         103904.0     14.815618     38.230901   0.0   \n",
       "Arrival Delay in Minutes           103904.0     15.178678     38.640909   0.0   \n",
       "\n",
       "                                        25%      50%       75%       max  \n",
       "id                                 32533.75  64856.5  97368.25  129880.0  \n",
       "Age                                   27.00     40.0     51.00      85.0  \n",
       "Flight Distance                      414.00    843.0   1743.00    4983.0  \n",
       "Inflight wifi service                  2.00      3.0      4.00       5.0  \n",
       "Departure/Arrival time convenient      2.00      3.0      4.00       5.0  \n",
       "Ease of Online booking                 2.00      3.0      4.00       5.0  \n",
       "Gate location                          2.00      3.0      4.00       5.0  \n",
       "Food and drink                         2.00      3.0      4.00       5.0  \n",
       "Online boarding                        2.00      3.0      4.00       5.0  \n",
       "Seat comfort                           2.00      4.0      5.00       5.0  \n",
       "Inflight entertainment                 2.00      4.0      4.00       5.0  \n",
       "On-board service                       2.00      4.0      4.00       5.0  \n",
       "Leg room service                       2.00      4.0      4.00       5.0  \n",
       "Baggage handling                       3.00      4.0      5.00       5.0  \n",
       "Checkin service                        3.00      3.0      4.00       5.0  \n",
       "Inflight service                       3.00      4.0      5.00       5.0  \n",
       "Cleanliness                            2.00      3.0      4.00       5.0  \n",
       "Departure Delay in Minutes             0.00      0.0     12.00    1592.0  \n",
       "Arrival Delay in Minutes               0.00      0.0     13.00    1584.0  "
      ]
     },
     "execution_count": 24,
     "metadata": {},
     "output_type": "execute_result"
    }
   ],
   "source": [
    "df_train.describe().T"
   ]
  },
  {
   "cell_type": "code",
   "execution_count": 25,
   "metadata": {},
   "outputs": [
    {
     "name": "stdout",
     "output_type": "stream",
     "text": [
      "Categorical Columns:\n",
      "Index(['Gender', 'Customer Type', 'Type of Travel', 'Class', 'satisfaction'], dtype='object')\n"
     ]
    }
   ],
   "source": [
    "# Get the Categorical  columns\n",
    "categorical_columns = df_train.select_dtypes(include=['object']).columns\n",
    "\n",
    "# Print the Categorical columns\n",
    "print(\"Categorical Columns:\")\n",
    "print(categorical_columns)"
   ]
  },
  {
   "cell_type": "code",
   "execution_count": 26,
   "metadata": {},
   "outputs": [],
   "source": [
    "# For Every Categorical Feature Let's Print Unique Values Availble In That Columns."
   ]
  },
  {
   "cell_type": "code",
   "execution_count": 27,
   "metadata": {},
   "outputs": [
    {
     "name": "stdout",
     "output_type": "stream",
     "text": [
      "id --------- [ 70172   5047 110028 ...  68825  54173  62567] ----- 103904\n",
      "Gender --------- ['Male' 'Female'] ----- 2\n",
      "Customer Type --------- ['Loyal Customer' 'disloyal Customer'] ----- 2\n",
      "Age --------- [13 25 26 61 47 52 41 20 24 12 53 33 45 38  9 17 43 58 23 57 49 36 22 31\n",
      " 15 35 67 37 40 34 39 50 29 54 21 28 27 69 60 48 59 46 30 66 64 44 51 32\n",
      " 19 42 16 11 62  8 56 68 55 18 65 72 70 63 10  7 14 80 74 71 85 73 76 77\n",
      " 75 79 78] ----- 75\n",
      "Type of Travel --------- ['Personal Travel' 'Business travel'] ----- 2\n",
      "Class --------- ['Eco Plus' 'Business' 'Eco'] ----- 3\n",
      "Flight Distance --------- [ 460  235 1142 ...  974 1479  400] ----- 3802\n",
      "Inflight wifi service --------- [3 2 4 1 5 0] ----- 6\n",
      "Departure/Arrival time convenient --------- [4 2 5 3 1 0] ----- 6\n",
      "Ease of Online booking --------- [3 2 5 4 1 0] ----- 6\n",
      "Gate location --------- [1 3 2 5 4 0] ----- 6\n",
      "Food and drink --------- [5 1 2 4 3 0] ----- 6\n",
      "Online boarding --------- [3 5 2 1 4 0] ----- 6\n",
      "Seat comfort --------- [5 1 2 3 4 0] ----- 6\n",
      "Inflight entertainment --------- [5 1 2 3 4 0] ----- 6\n",
      "On-board service --------- [4 1 2 3 5 0] ----- 6\n",
      "Leg room service --------- [3 5 4 2 1 0] ----- 6\n",
      "Baggage handling --------- [4 3 5 1 2] ----- 5\n",
      "Checkin service --------- [4 1 3 5 2 0] ----- 6\n",
      "Inflight service --------- [5 4 3 1 2 0] ----- 6\n",
      "Cleanliness --------- [5 1 2 3 4 0] ----- 6\n",
      "Departure Delay in Minutes --------- [  25    1    0   11    9    4   28   43   49    7   17   52   54   27\n",
      "   18   19    3  109   23    8   14   10   51   39   13   30   64   20\n",
      "   45   44   31   81   35   67   22   40   91   21   15   29  105   12\n",
      "  162   24  141    6   34    2   97   16   99   37   66   53   36  209\n",
      "   60  149   26    5   59   62  113   38   83  176   46   73  199   56\n",
      "   93   70   80   96   57   95   74  172   63  175  143   48   47  101\n",
      "  118   76  220   33   55  232  170  173  124  112   94  243  128   92\n",
      "  270   90  110   50  144   71  315  158   88   65  111   32  156   41\n",
      "  154  150  228   72  137  126  161   42  174  103  313  136  160  412\n",
      "   69  185  114  135  142  147   85  235  125  391   84  138  102  196\n",
      "  140   77  187  131   82  100   86  165   87  129  204  435  166  177\n",
      "  123  139  116  108  167  285   61  117  106  190  168  211   89  324\n",
      "   75  202  290  189  203  120  157  119   68  299  292   78  258  104\n",
      "  121   58  222  317  320  200  134  248   79  240  169   98  249  145\n",
      "  238  246  132  107  127  180  151  480  241  130  268  115  133  171\n",
      "  164  330  438  472  163  122  326  186  155  223  332  447 1305  208\n",
      "  201  233  210  182  221  159  188  184  224  178  266  191  219  652\n",
      "  148  226  236  153  276  212  152  198  245  726  302  283  505  242\n",
      "  215  394  206  311  293  566  225  146  218  227  252  291  193  323\n",
      "  281  287  339  183  259  192  319  207  195  179  194  537  181  257\n",
      "  213  300  295  262  312  383  392  294  250  419  216  308  423  346\n",
      "  272  197  205  303  251  344  333  355  454  459  269  254  231  253\n",
      "  265  301  263  381  214  310  244  239  255  328  348  278  859  692\n",
      "  321  465  426  340  274  267  519  286  414  559  382  237  260  401\n",
      "  247  376  288  271  450  230  217  279  264  448  398  750  365  316\n",
      "  351  327  341  306  353  358  514  334  277  275  352  371  437  229\n",
      "  600  296  460  338  307  234  289  452  318  256  368  626  729  362\n",
      "  360  853  446  399  396  463  364  342  372  298  273  427  429  373\n",
      "  420  579  930 1017  921  370  378  595  491  469  345  410  610  388\n",
      "  748  336  433  455  347  444  282  978  322  496  389  359  415  329\n",
      "  933  402  331  280  407 1592  501  384  377  503  400  430  570  357\n",
      "  350  297  309  531  304  363  411  390  314  343  724  337] ----- 446\n",
      "Arrival Delay in Minutes --------- [1.80000000e+01 6.00000000e+00 0.00000000e+00 9.00000000e+00\n",
      " 2.30000000e+01 8.00000000e+00 3.50000000e+01 5.10000000e+01\n",
      " 1.00000000e+01 5.00000000e+00 4.00000000e+00 2.90000000e+01\n",
      " 4.40000000e+01 2.80000000e+01 1.20000000e+01 1.20000000e+02\n",
      " 2.40000000e+01 1.00000000e+00 2.00000000e+01 3.10000000e+01\n",
      " 1.50000000e+01 4.80000000e+01 2.60000000e+01 4.90000000e+01\n",
      " 2.00000000e+00 3.70000000e+01 5.00000000e+01 3.00000000e+00\n",
      " 1.90000000e+01 7.20000000e+01 1.10000000e+01 3.40000000e+01\n",
      " 6.20000000e+01 2.70000000e+01 5.20000000e+01 1.30000000e+01\n",
      " 8.20000000e+01 3.00000000e+01 1.60000000e+01 7.00000000e+00\n",
      " 1.22000000e+02 1.79000000e+02 1.25000000e+02 1.70000000e+01\n",
      " 1.51786783e+01 8.90000000e+01 1.01000000e+02 1.40000000e+01\n",
      " 6.10000000e+01 3.20000000e+01 3.30000000e+01 4.10000000e+01\n",
      " 1.91000000e+02 1.38000000e+02 5.30000000e+01 2.20000000e+01\n",
      " 5.70000000e+01 6.50000000e+01 7.60000000e+01 1.07000000e+02\n",
      " 9.20000000e+01 1.64000000e+02 2.10000000e+01 4.00000000e+01\n",
      " 5.50000000e+01 1.85000000e+02 6.30000000e+01 7.70000000e+01\n",
      " 8.60000000e+01 9.10000000e+01 1.00000000e+02 5.40000000e+01\n",
      " 3.60000000e+01 7.00000000e+01 1.39000000e+02 6.70000000e+01\n",
      " 1.63000000e+02 1.28000000e+02 1.80000000e+02 9.30000000e+01\n",
      " 1.21000000e+02 4.50000000e+01 1.05000000e+02 1.26000000e+02\n",
      " 5.60000000e+01 7.30000000e+01 2.12000000e+02 8.80000000e+01\n",
      " 2.41000000e+02 1.72000000e+02 1.75000000e+02 1.11000000e+02\n",
      " 9.90000000e+01 2.50000000e+01 4.20000000e+01 2.26000000e+02\n",
      " 4.60000000e+01 1.31000000e+02 2.60000000e+02 6.90000000e+01\n",
      " 1.42000000e+02 5.80000000e+01 7.50000000e+01 3.80000000e+01\n",
      " 6.60000000e+01 3.90000000e+01 1.03000000e+02 3.07000000e+02\n",
      " 1.56000000e+02 7.40000000e+01 1.09000000e+02 1.55000000e+02\n",
      " 6.00000000e+01 1.54000000e+02 4.30000000e+01 1.47000000e+02\n",
      " 2.17000000e+02 1.24000000e+02 4.70000000e+01 1.50000000e+02\n",
      " 1.16000000e+02 1.71000000e+02 8.40000000e+01 1.23000000e+02\n",
      " 1.65000000e+02 9.40000000e+01 8.30000000e+01 3.36000000e+02\n",
      " 5.90000000e+01 2.19000000e+02 8.70000000e+01 4.59000000e+02\n",
      " 6.80000000e+01 1.04000000e+02 1.33000000e+02 1.34000000e+02\n",
      " 8.10000000e+01 2.59000000e+02 8.00000000e+01 7.90000000e+01\n",
      " 2.22000000e+02 2.03000000e+02 3.54000000e+02 2.14000000e+02\n",
      " 7.80000000e+01 9.50000000e+01 7.10000000e+01 1.10000000e+02\n",
      " 8.50000000e+01 1.46000000e+02 1.96000000e+02 9.80000000e+01\n",
      " 4.70000000e+02 2.64000000e+02 1.49000000e+02 1.13000000e+02\n",
      " 1.19000000e+02 1.06000000e+02 2.16000000e+02 1.60000000e+02\n",
      " 2.85000000e+02 1.15000000e+02 1.86000000e+02 2.11000000e+02\n",
      " 3.23000000e+02 1.76000000e+02 1.67000000e+02 2.42000000e+02\n",
      " 2.84000000e+02 2.00000000e+02 1.45000000e+02 1.08000000e+02\n",
      " 1.74000000e+02 1.32000000e+02 3.13000000e+02 3.31000000e+02\n",
      " 2.88000000e+02 1.18000000e+02 2.25000000e+02 6.40000000e+01\n",
      " 3.24000000e+02 1.90000000e+02 1.77000000e+02 1.36000000e+02\n",
      " 3.20000000e+02 2.01000000e+02 2.71000000e+02 9.60000000e+01\n",
      " 1.52000000e+02 2.80000000e+02 1.41000000e+02 1.57000000e+02\n",
      " 1.53000000e+02 1.30000000e+02 1.40000000e+02 1.12000000e+02\n",
      " 2.57000000e+02 1.17000000e+02 2.35000000e+02 9.00000000e+01\n",
      " 1.81000000e+02 1.83000000e+02 1.27000000e+02 4.71000000e+02\n",
      " 2.27000000e+02 1.02000000e+02 1.35000000e+02 1.29000000e+02\n",
      " 2.55000000e+02 1.92000000e+02 3.48000000e+02 4.38000000e+02\n",
      " 4.46000000e+02 1.84000000e+02 1.68000000e+02 1.66000000e+02\n",
      " 3.10000000e+02 1.73000000e+02 2.61000000e+02 1.61000000e+02\n",
      " 2.36000000e+02 1.51000000e+02 1.82000000e+02 3.21000000e+02\n",
      " 2.33000000e+02 1.37000000e+02 4.33000000e+02 1.28000000e+03\n",
      " 2.18000000e+02 1.48000000e+02 1.44000000e+02 1.87000000e+02\n",
      " 2.06000000e+02 1.70000000e+02 2.09000000e+02 1.14000000e+02\n",
      " 2.24000000e+02 2.81000000e+02 2.23000000e+02 6.38000000e+02\n",
      " 2.20000000e+02 2.34000000e+02 9.70000000e+01 2.65000000e+02\n",
      " 3.88000000e+02 2.62000000e+02 2.21000000e+02 1.62000000e+02\n",
      " 2.67000000e+02 3.74000000e+02 2.28000000e+02 2.44000000e+02\n",
      " 2.47000000e+02 6.91000000e+02 1.43000000e+02 1.89000000e+02\n",
      " 1.97000000e+02 2.04000000e+02 3.19000000e+02 2.73000000e+02\n",
      " 3.29000000e+02 1.95000000e+02 4.86000000e+02 1.78000000e+02\n",
      " 2.70000000e+02 1.58000000e+02 1.99000000e+02 2.13000000e+02\n",
      " 3.83000000e+02 3.02000000e+02 6.00000000e+02 2.15000000e+02\n",
      " 1.69000000e+02 1.88000000e+02 2.66000000e+02 2.92000000e+02\n",
      " 2.87000000e+02 2.30000000e+02 2.39000000e+02 2.89000000e+02\n",
      " 2.98000000e+02 2.32000000e+02 3.63000000e+02 2.05000000e+02\n",
      " 2.95000000e+02 2.83000000e+02 5.24000000e+02 3.27000000e+02\n",
      " 2.46000000e+02 2.90000000e+02 3.14000000e+02 3.16000000e+02\n",
      " 3.04000000e+02 2.02000000e+02 2.96000000e+02 2.48000000e+02\n",
      " 3.86000000e+02 3.81000000e+02 1.59000000e+02 3.22000000e+02\n",
      " 4.60000000e+02 4.18000000e+02 3.49000000e+02 2.56000000e+02\n",
      " 2.49000000e+02 1.94000000e+02 3.15000000e+02 2.08000000e+02\n",
      " 1.93000000e+02 3.71000000e+02 2.29000000e+02 3.91000000e+02\n",
      " 4.54000000e+02 4.45000000e+02 2.10000000e+02 2.68000000e+02\n",
      " 2.53000000e+02 2.45000000e+02 3.37000000e+02 2.97000000e+02\n",
      " 4.36000000e+02 2.79000000e+02 3.00000000e+02 2.40000000e+02\n",
      " 2.37000000e+02 2.07000000e+02 1.98000000e+02 4.04000000e+02\n",
      " 2.43000000e+02 3.41000000e+02 2.78000000e+02 3.05000000e+02\n",
      " 8.60000000e+02 2.58000000e+02 7.02000000e+02 3.60000000e+02\n",
      " 4.93000000e+02 4.27000000e+02 3.35000000e+02 5.16000000e+02\n",
      " 2.72000000e+02 4.10000000e+02 5.55000000e+02 3.92000000e+02\n",
      " 2.52000000e+02 3.30000000e+02 3.82000000e+02 2.93000000e+02\n",
      " 2.77000000e+02 2.31000000e+02 2.75000000e+02 3.62000000e+02\n",
      " 2.76000000e+02 7.29000000e+02 3.57000000e+02 3.26000000e+02\n",
      " 2.50000000e+02 4.58000000e+02 3.34000000e+02 2.91000000e+02\n",
      " 3.80000000e+02 3.59000000e+02 3.46000000e+02 6.24000000e+02\n",
      " 3.77000000e+02 3.72000000e+02 4.29000000e+02 5.89000000e+02\n",
      " 3.01000000e+02 5.02000000e+02 2.99000000e+02 4.57000000e+02\n",
      " 2.38000000e+02 4.01000000e+02 4.40000000e+02 2.86000000e+02\n",
      " 2.74000000e+02 3.11000000e+02 3.03000000e+02 6.04000000e+02\n",
      " 7.17000000e+02 3.56000000e+02 4.09000000e+02 8.23000000e+02\n",
      " 2.94000000e+02 2.51000000e+02 4.31000000e+02 4.32000000e+02\n",
      " 4.03000000e+02 3.18000000e+02 5.03000000e+02 3.38000000e+02\n",
      " 3.64000000e+02 4.07000000e+02 3.68000000e+02 3.08000000e+02\n",
      " 2.54000000e+02 4.35000000e+02 2.63000000e+02 4.17000000e+02\n",
      " 3.58000000e+02 4.16000000e+02 5.61000000e+02 3.51000000e+02\n",
      " 9.52000000e+02 1.01100000e+03 9.24000000e+02 3.06000000e+02\n",
      " 4.24000000e+02 4.85000000e+02 4.43000000e+02 3.17000000e+02\n",
      " 5.18000000e+02 3.50000000e+02 4.44000000e+02 3.12000000e+02\n",
      " 3.97000000e+02 5.93000000e+02 3.93000000e+02 7.20000000e+02\n",
      " 3.66000000e+02 4.55000000e+02 2.69000000e+02 4.34000000e+02\n",
      " 9.70000000e+02 3.47000000e+02 3.09000000e+02 3.78000000e+02\n",
      " 3.79000000e+02 3.95000000e+02 3.70000000e+02 4.48000000e+02\n",
      " 9.20000000e+02 3.89000000e+02 3.55000000e+02 3.42000000e+02\n",
      " 1.58400000e+03 5.00000000e+02 4.02000000e+02 4.06000000e+02\n",
      " 4.84000000e+02 4.12000000e+02 5.67000000e+02 4.20000000e+02\n",
      " 3.99000000e+02 3.45000000e+02 3.53000000e+02 4.22000000e+02\n",
      " 2.82000000e+02 5.07000000e+02 4.25000000e+02 3.39000000e+02\n",
      " 3.52000000e+02 3.85000000e+02 7.05000000e+02 3.69000000e+02] ----- 456\n"
     ]
    },
    {
     "name": "stdout",
     "output_type": "stream",
     "text": [
      "satisfaction --------- ['neutral or dissatisfied' 'satisfied'] ----- 2\n"
     ]
    }
   ],
   "source": [
    "for i in df_train.columns:\n",
    "    print(i,\"---------\",df_train[i].unique(),\"-----\",df_train[i].nunique())"
   ]
  },
  {
   "cell_type": "code",
   "execution_count": 28,
   "metadata": {},
   "outputs": [
    {
     "name": "stdout",
     "output_type": "stream",
     "text": [
      "Gender\n",
      "['Male' 'Female'] \n",
      "\n",
      "Customer Type\n",
      "['Loyal Customer' 'disloyal Customer'] \n",
      "\n",
      "Type of Travel\n",
      "['Personal Travel' 'Business travel'] \n",
      "\n",
      "Class\n",
      "['Eco Plus' 'Business' 'Eco'] \n",
      "\n",
      "satisfaction\n",
      "['neutral or dissatisfied' 'satisfied'] \n",
      "\n"
     ]
    }
   ],
   "source": [
    "for i in df_train.columns:\n",
    "    if df_train[i].dtype=='object':\n",
    "        print(i)\n",
    "        print(df_train[i].unique(),\"\\n\")"
   ]
  },
  {
   "cell_type": "code",
   "execution_count": 29,
   "metadata": {},
   "outputs": [
    {
     "name": "stdout",
     "output_type": "stream",
     "text": [
      "Numerical Columns:\n",
      "Index(['id', 'Age', 'Flight Distance', 'Inflight wifi service',\n",
      "       'Departure/Arrival time convenient', 'Ease of Online booking',\n",
      "       'Gate location', 'Food and drink', 'Online boarding', 'Seat comfort',\n",
      "       'Inflight entertainment', 'On-board service', 'Leg room service',\n",
      "       'Baggage handling', 'Checkin service', 'Inflight service',\n",
      "       'Cleanliness', 'Departure Delay in Minutes',\n",
      "       'Arrival Delay in Minutes'],\n",
      "      dtype='object')\n"
     ]
    }
   ],
   "source": [
    "# Get the numerical columns\n",
    "numerical_columns = df_train.select_dtypes(include=['int64', 'float64']).columns\n",
    "\n",
    "# Print the numerical columns\n",
    "print(\"Numerical Columns:\")\n",
    "print(numerical_columns)\n"
   ]
  },
  {
   "cell_type": "code",
   "execution_count": null,
   "metadata": {},
   "outputs": [],
   "source": []
  },
  {
   "cell_type": "markdown",
   "metadata": {},
   "source": [
    "# Identify outliers and remove if any"
   ]
  },
  {
   "cell_type": "code",
   "execution_count": 30,
   "metadata": {},
   "outputs": [
    {
     "data": {
      "image/png": "[encoded data removed]",
      "text/plain": [
       "<Figure size 432x288 with 1 Axes>"
      ]
     },
     "metadata": {
      "needs_background": "light"
     },
     "output_type": "display_data"
    },
    {
     "data": {
      "image/png": "[encoded data removed]",
      "text/plain": [
       "<Figure size 432x288 with 1 Axes>"
      ]
     },
     "metadata": {
      "needs_background": "light"
     },
     "output_type": "display_data"
    },
    {
     "data": {
      "image/png": "[encoded data removed]",
      "text/plain": [
       "<Figure size 432x288 with 1 Axes>"
      ]
     },
     "metadata": {
      "needs_background": "light"
     },
     "output_type": "display_data"
    },
    {
     "data": {
      "image/png": "[encoded data removed]",
      "text/plain": [
       "<Figure size 432x288 with 1 Axes>"
      ]
     },
     "metadata": {
      "needs_background": "light"
     },
     "output_type": "display_data"
    },
    {
     "data": {
      "image/png": "[encoded data removed]",
      "text/plain": [
       "<Figure size 432x288 with 1 Axes>"
      ]
     },
     "metadata": {
      "needs_background": "light"
     },
     "output_type": "display_data"
    },
    {
     "data": {
      "image/png": "[encoded data removed]",
      "text/plain": [
       "<Figure size 432x288 with 1 Axes>"
      ]
     },
     "metadata": {
      "needs_background": "light"
     },
     "output_type": "display_data"
    },
    {
     "data": {
      "image/png": "[encoded data removed]",
      "text/plain": [
       "<Figure size 432x288 with 1 Axes>"
      ]
     },
     "metadata": {
      "needs_background": "light"
     },
     "output_type": "display_data"
    },
    {
     "data": {
      "image/png": "[encoded data removed]",
      "text/plain": [
       "<Figure size 432x288 with 1 Axes>"
      ]
     },
     "metadata": {
      "needs_background": "light"
     },
     "output_type": "display_data"
    },
    {
     "data": {
      "image/png": "[encoded data removed]",
      "text/plain": [
       "<Figure size 432x288 with 1 Axes>"
      ]
     },
     "metadata": {
      "needs_background": "light"
     },
     "output_type": "display_data"
    },
    {
     "data": {
      "image/png": "[encoded data removed]",
      "text/plain": [
       "<Figure size 432x288 with 1 Axes>"
      ]
     },
     "metadata": {
      "needs_background": "light"
     },
     "output_type": "display_data"
    },
    {
     "data": {
      "image/png": "[encoded data removed]",
      "text/plain": [
       "<Figure size 432x288 with 1 Axes>"
      ]
     },
     "metadata": {
      "needs_background": "light"
     },
     "output_type": "display_data"
    },
    {
     "data": {
      "image/png": "[encoded data removed]",
      "text/plain": [
       "<Figure size 432x288 with 1 Axes>"
      ]
     },
     "metadata": {
      "needs_background": "light"
     },
     "output_type": "display_data"
    },
    {
     "data": {
      "image/png": "[encoded data removed]",
      "text/plain": [
       "<Figure size 432x288 with 1 Axes>"
      ]
     },
     "metadata": {
      "needs_background": "light"
     },
     "output_type": "display_data"
    },
    {
     "data": {
      "image/png": "[encoded data removed]",
      "text/plain": [
       "<Figure size 432x288 with 1 Axes>"
      ]
     },
     "metadata": {
      "needs_background": "light"
     },
     "output_type": "display_data"
    },
    {
     "data": {
      "image/png": "[encoded data removed]",
      "text/plain": [
       "<Figure size 432x288 with 1 Axes>"
      ]
     },
     "metadata": {
      "needs_background": "light"
     },
     "output_type": "display_data"
    },
    {
     "data": {
      "image/png": "[encoded data removed]",
      "text/plain": [
       "<Figure size 432x288 with 1 Axes>"
      ]
     },
     "metadata": {
      "needs_background": "light"
     },
     "output_type": "display_data"
    },
    {
     "data": {
      "image/png": "[encoded data removed]",
      "text/plain": [
       "<Figure size 432x288 with 1 Axes>"
      ]
     },
     "metadata": {
      "needs_background": "light"
     },
     "output_type": "display_data"
    },
    {
     "data": {
      "image/png": "[encoded data removed]",
      "text/plain": [
       "<Figure size 432x288 with 1 Axes>"
      ]
     },
     "metadata": {
      "needs_background": "light"
     },
     "output_type": "display_data"
    },
    {
     "data": {
      "image/png": "[encoded data removed]",
      "text/plain": [
       "<Figure size 432x288 with 1 Axes>"
      ]
     },
     "metadata": {
      "needs_background": "light"
     },
     "output_type": "display_data"
    }
   ],
   "source": [
    "for i in numerical_columns:\n",
    "    # Outlier Detection - Box plot\n",
    "    sns.boxplot(x=i, data=df_train)\n",
    "    plt.show()"
   ]
  },
  {
   "cell_type": "code",
   "execution_count": 31,
   "metadata": {},
   "outputs": [
    {
     "name": "stdout",
     "output_type": "stream",
     "text": [
      "id                                   64834.5\n",
      "Age                                     24.0\n",
      "Flight Distance                       1329.0\n",
      "Inflight wifi service                    2.0\n",
      "Departure/Arrival time convenient        2.0\n",
      "Ease of Online booking                   2.0\n",
      "Gate location                            2.0\n",
      "Food and drink                           2.0\n",
      "Online boarding                          2.0\n",
      "Seat comfort                             3.0\n",
      "Inflight entertainment                   2.0\n",
      "On-board service                         2.0\n",
      "Leg room service                         2.0\n",
      "Baggage handling                         2.0\n",
      "Checkin service                          1.0\n",
      "Inflight service                         2.0\n",
      "Cleanliness                              2.0\n",
      "Departure Delay in Minutes              12.0\n",
      "Arrival Delay in Minutes                13.0\n",
      "dtype: float64\n"
     ]
    }
   ],
   "source": [
    "Q1 = df_train.quantile(0.25)\n",
    "Q3 = df_train.quantile(0.75)\n",
    "IQR = Q3 - Q1\n",
    "print(IQR)"
   ]
  },
  {
   "cell_type": "code",
   "execution_count": 32,
   "metadata": {},
   "outputs": [
    {
     "data": {
      "text/plain": [
       "(74931, 24)"
      ]
     },
     "execution_count": 32,
     "metadata": {},
     "output_type": "execute_result"
    }
   ],
   "source": [
    "# Removing outliers from dataset\n",
    "df_train = df_train[~((df_train < (Q1 - 1.5 * IQR)) |(df_train > (Q3 + 1.5 * IQR))).any(axis=1)]\n",
    "df_train.shape"
   ]
  },
  {
   "cell_type": "markdown",
   "metadata": {},
   "source": [
    "# Data Visualization"
   ]
  },
  {
   "cell_type": "code",
   "execution_count": 33,
   "metadata": {},
   "outputs": [
    {
     "name": "stdout",
     "output_type": "stream",
     "text": [
      "Categorical Columns:\n",
      "Index(['Gender', 'Customer Type', 'Type of Travel', 'Class', 'satisfaction'], dtype='object')\n"
     ]
    }
   ],
   "source": [
    "# Get the Categorical  columns\n",
    "categorical_columns = df_train.select_dtypes(include=['object']).columns\n",
    "\n",
    "# Print the numerical columns\n",
    "print(\"Categorical Columns:\")\n",
    "print(categorical_columns)"
   ]
  },
  {
   "cell_type": "markdown",
   "metadata": {},
   "source": [
    "#As this are the categorical columns in the dataset. This is the visualization of all the categorical columns with the help of bar plot method."
   ]
  },
  {
   "cell_type": "code",
   "execution_count": null,
   "metadata": {},
   "outputs": [],
   "source": []
  },
  {
   "cell_type": "code",
   "execution_count": 34,
   "metadata": {},
   "outputs": [
    {
     "data": {
      "image/png": "[encoded data removed]",
      "text/plain": [
       "<Figure size 432x288 with 1 Axes>"
      ]
     },
     "metadata": {},
     "output_type": "display_data"
    }
   ],
   "source": [
    "plt.pie(df_train['Gender'].value_counts(), labels=[\"Male\", \"Female\"],colors = sns.color_palette(\"Accent\") + sns.color_palette(\"Dark2\"), autopct='%1.1f%%')\n",
    "plt.show()"
   ]
  },
  {
   "cell_type": "code",
   "execution_count": null,
   "metadata": {},
   "outputs": [],
   "source": []
  },
  {
   "cell_type": "code",
   "execution_count": 35,
   "metadata": {},
   "outputs": [
    {
     "data": {
      "image/png": "[encoded data removed]",
      "text/plain": [
       "<Figure size 432x288 with 1 Axes>"
      ]
     },
     "metadata": {},
     "output_type": "display_data"
    }
   ],
   "source": [
    "plt.pie(df_train['Customer Type'].value_counts(), labels=[\"Loyal Customer\", \"disloyal Customer\"],colors = sns.color_palette(\"Set2\") + sns.color_palette(\"Paired\"), autopct='%1.1f%%')\n",
    "plt.show()\n"
   ]
  },
  {
   "cell_type": "code",
   "execution_count": null,
   "metadata": {},
   "outputs": [],
   "source": [
    "\n"
   ]
  },
  {
   "cell_type": "code",
   "execution_count": 36,
   "metadata": {},
   "outputs": [
    {
     "data": {
      "image/png": "[encoded data removed]",
      "text/plain": [
       "<Figure size 432x288 with 1 Axes>"
      ]
     },
     "metadata": {},
     "output_type": "display_data"
    }
   ],
   "source": [
    "plt.pie(df_train['Type of Travel'].value_counts(), labels=[\"Personal Travel\", \"Business travel\"], colors=sns.color_palette(\"YlOrBr\"), autopct='%1.1f%%')\n",
    "plt.show()\n"
   ]
  },
  {
   "cell_type": "code",
   "execution_count": null,
   "metadata": {},
   "outputs": [],
   "source": []
  },
  {
   "cell_type": "code",
   "execution_count": 37,
   "metadata": {},
   "outputs": [
    {
     "data": {
      "image/png": "[encoded data removed]",
      "text/plain": [
       "<Figure size 432x288 with 1 Axes>"
      ]
     },
     "metadata": {},
     "output_type": "display_data"
    }
   ],
   "source": [
    "plt.pie(df_train.Class.value_counts(), labels = [\"Eco Plus\", \"Business Class\", \"Eco\"], colors = sns.color_palette(\"YlOrBr\"), autopct = '%1.1f%%')\n",
    "pass"
   ]
  },
  {
   "cell_type": "code",
   "execution_count": null,
   "metadata": {},
   "outputs": [],
   "source": []
  },
  {
   "cell_type": "code",
   "execution_count": 38,
   "metadata": {},
   "outputs": [
    {
     "data": {
      "image/png": "[encoded data removed]",
      "text/plain": [
       "<Figure size 432x288 with 1 Axes>"
      ]
     },
     "metadata": {},
     "output_type": "display_data"
    }
   ],
   "source": [
    "plt.pie(df_train.satisfaction.value_counts(), labels = [\"Neutral or dissatisfied\", \"Satisfied\"], colors = sns.color_palette(\"YlOrBr\"), autopct = '%1.1f%%')\n",
    "pass"
   ]
  },
  {
   "cell_type": "code",
   "execution_count": null,
   "metadata": {},
   "outputs": [],
   "source": []
  },
  {
   "cell_type": "markdown",
   "metadata": {},
   "source": [
    "# Data Visualization of numerical values from dataset\n"
   ]
  },
  {
   "cell_type": "code",
   "execution_count": 62,
   "metadata": {},
   "outputs": [
    {
     "data": {
      "image/png": "[encoded data removed]",
      "text/plain": [
       "<Figure size 576x432 with 1 Axes>"
      ]
     },
     "metadata": {},
     "output_type": "display_data"
    },
    {
     "data": {
      "image/png": "[encoded data removed]",
      "text/plain": [
       "<Figure size 576x432 with 1 Axes>"
      ]
     },
     "metadata": {},
     "output_type": "display_data"
    },
    {
     "data": {
      "image/png": "[encoded data removed]",
      "text/plain": [
       "<Figure size 576x432 with 1 Axes>"
      ]
     },
     "metadata": {},
     "output_type": "display_data"
    },
    {
     "data": {
      "image/png": "[encoded data removed]",
      "text/plain": [
       "<Figure size 576x432 with 1 Axes>"
      ]
     },
     "metadata": {},
     "output_type": "display_data"
    }
   ],
   "source": [
    "# Assuming df_train is your DataFrame\n",
    "numeric_columns_to_visualize = [\"Age\", \"Flight Distance\", \"Departure Delay in Minutes\", \"Arrival Delay in Minutes\"]  # Include only the variables you want\n",
    "\n",
    "numeric_df = df_train[numeric_columns_to_visualize]  # Select specific numerical columns\n",
    "\n",
    "# Loop through each selected numerical column and create KDE plots\n",
    "for column in numeric_df.columns:\n",
    "    plt.figure(figsize=(8, 6))  # Adjust the figure size if needed\n",
    "    sns.kdeplot(data=numeric_df[column], shade=True)\n",
    "    plt.title(f'Distribution of {column}')\n",
    "    plt.xlabel(column)\n",
    "    plt.ylabel('Density')\n",
    "    plt.show()\n"
   ]
  },
  {
   "cell_type": "markdown",
   "metadata": {},
   "source": [
    "Consider visualizing variables like \"Age,\" \"Flight Distance,\" \"Departure Delay in Minutes,\" and \"Arrival Delay in Minutes\" as they are likely to be relevant for understanding the factors that influence passenger satisfaction."
   ]
  },
  {
   "cell_type": "markdown",
   "metadata": {},
   "source": [
    "# Label Encoding of Categorical Variables"
   ]
  },
  {
   "cell_type": "code",
   "execution_count": 41,
   "metadata": {},
   "outputs": [],
   "source": [
    "from sklearn.preprocessing import LabelEncoder\n",
    "lencoders = {}\n",
    "for col in df_train.select_dtypes(include=['object']).columns:\n",
    "    lencoders[col] = LabelEncoder()\n",
    "    df_train[col] = lencoders[col].fit_transform(df_train[col])"
   ]
  },
  {
   "cell_type": "code",
   "execution_count": 42,
   "metadata": {},
   "outputs": [],
   "source": [
    "lencoders_t = {}\n",
    "for col in df_test.select_dtypes(include=['object']).columns:\n",
    "    lencoders_t[col] = LabelEncoder()\n",
    "    df_test[col] = lencoders_t[col].fit_transform(df_test[col])\n"
   ]
  },
  {
   "cell_type": "code",
   "execution_count": 43,
   "metadata": {},
   "outputs": [
    {
     "data": {
      "text/html": [
       "<div>\n",
       "<style scoped>\n",
       "    .dataframe tbody tr th:only-of-type {\n",
       "        vertical-align: middle;\n",
       "    }\n",
       "\n",
       "    .dataframe tbody tr th {\n",
       "        vertical-align: top;\n",
       "    }\n",
       "\n",
       "    .dataframe thead th {\n",
       "        text-align: right;\n",
       "    }\n",
       "</style>\n",
       "<table border=\"1\" class=\"dataframe\">\n",
       "  <thead>\n",
       "    <tr style=\"text-align: right;\">\n",
       "      <th></th>\n",
       "      <th>id</th>\n",
       "      <th>Gender</th>\n",
       "      <th>Customer Type</th>\n",
       "      <th>Age</th>\n",
       "      <th>Type of Travel</th>\n",
       "      <th>Class</th>\n",
       "      <th>Flight Distance</th>\n",
       "      <th>Inflight wifi service</th>\n",
       "      <th>Departure/Arrival time convenient</th>\n",
       "      <th>Ease of Online booking</th>\n",
       "      <th>...</th>\n",
       "      <th>Inflight entertainment</th>\n",
       "      <th>On-board service</th>\n",
       "      <th>Leg room service</th>\n",
       "      <th>Baggage handling</th>\n",
       "      <th>Checkin service</th>\n",
       "      <th>Inflight service</th>\n",
       "      <th>Cleanliness</th>\n",
       "      <th>Departure Delay in Minutes</th>\n",
       "      <th>Arrival Delay in Minutes</th>\n",
       "      <th>satisfaction</th>\n",
       "    </tr>\n",
       "  </thead>\n",
       "  <tbody>\n",
       "    <tr>\n",
       "      <th>0</th>\n",
       "      <td>70172</td>\n",
       "      <td>1</td>\n",
       "      <td>0</td>\n",
       "      <td>13</td>\n",
       "      <td>1</td>\n",
       "      <td>2</td>\n",
       "      <td>460</td>\n",
       "      <td>3</td>\n",
       "      <td>4</td>\n",
       "      <td>3</td>\n",
       "      <td>...</td>\n",
       "      <td>5</td>\n",
       "      <td>4</td>\n",
       "      <td>3</td>\n",
       "      <td>4</td>\n",
       "      <td>4</td>\n",
       "      <td>5</td>\n",
       "      <td>5</td>\n",
       "      <td>25</td>\n",
       "      <td>18.0</td>\n",
       "      <td>0</td>\n",
       "    </tr>\n",
       "    <tr>\n",
       "      <th>2</th>\n",
       "      <td>110028</td>\n",
       "      <td>0</td>\n",
       "      <td>0</td>\n",
       "      <td>26</td>\n",
       "      <td>0</td>\n",
       "      <td>0</td>\n",
       "      <td>1142</td>\n",
       "      <td>2</td>\n",
       "      <td>2</td>\n",
       "      <td>2</td>\n",
       "      <td>...</td>\n",
       "      <td>5</td>\n",
       "      <td>4</td>\n",
       "      <td>3</td>\n",
       "      <td>4</td>\n",
       "      <td>4</td>\n",
       "      <td>4</td>\n",
       "      <td>5</td>\n",
       "      <td>0</td>\n",
       "      <td>0.0</td>\n",
       "      <td>1</td>\n",
       "    </tr>\n",
       "    <tr>\n",
       "      <th>4</th>\n",
       "      <td>119299</td>\n",
       "      <td>1</td>\n",
       "      <td>0</td>\n",
       "      <td>61</td>\n",
       "      <td>0</td>\n",
       "      <td>0</td>\n",
       "      <td>214</td>\n",
       "      <td>3</td>\n",
       "      <td>3</td>\n",
       "      <td>3</td>\n",
       "      <td>...</td>\n",
       "      <td>3</td>\n",
       "      <td>3</td>\n",
       "      <td>4</td>\n",
       "      <td>4</td>\n",
       "      <td>3</td>\n",
       "      <td>3</td>\n",
       "      <td>3</td>\n",
       "      <td>0</td>\n",
       "      <td>0.0</td>\n",
       "      <td>1</td>\n",
       "    </tr>\n",
       "    <tr>\n",
       "      <th>5</th>\n",
       "      <td>111157</td>\n",
       "      <td>0</td>\n",
       "      <td>0</td>\n",
       "      <td>26</td>\n",
       "      <td>1</td>\n",
       "      <td>1</td>\n",
       "      <td>1180</td>\n",
       "      <td>3</td>\n",
       "      <td>4</td>\n",
       "      <td>2</td>\n",
       "      <td>...</td>\n",
       "      <td>1</td>\n",
       "      <td>3</td>\n",
       "      <td>4</td>\n",
       "      <td>4</td>\n",
       "      <td>4</td>\n",
       "      <td>4</td>\n",
       "      <td>1</td>\n",
       "      <td>0</td>\n",
       "      <td>0.0</td>\n",
       "      <td>0</td>\n",
       "    </tr>\n",
       "    <tr>\n",
       "      <th>6</th>\n",
       "      <td>82113</td>\n",
       "      <td>1</td>\n",
       "      <td>0</td>\n",
       "      <td>47</td>\n",
       "      <td>1</td>\n",
       "      <td>1</td>\n",
       "      <td>1276</td>\n",
       "      <td>2</td>\n",
       "      <td>4</td>\n",
       "      <td>2</td>\n",
       "      <td>...</td>\n",
       "      <td>2</td>\n",
       "      <td>3</td>\n",
       "      <td>3</td>\n",
       "      <td>4</td>\n",
       "      <td>3</td>\n",
       "      <td>5</td>\n",
       "      <td>2</td>\n",
       "      <td>9</td>\n",
       "      <td>23.0</td>\n",
       "      <td>0</td>\n",
       "    </tr>\n",
       "  </tbody>\n",
       "</table>\n",
       "<p>5 rows × 24 columns</p>\n",
       "</div>"
      ],
      "text/plain": [
       "       id  Gender  Customer Type  Age  Type of Travel  Class  Flight Distance  \\\n",
       "0   70172       1              0   13               1      2              460   \n",
       "2  110028       0              0   26               0      0             1142   \n",
       "4  119299       1              0   61               0      0              214   \n",
       "5  111157       0              0   26               1      1             1180   \n",
       "6   82113       1              0   47               1      1             1276   \n",
       "\n",
       "   Inflight wifi service  Departure/Arrival time convenient  \\\n",
       "0                      3                                  4   \n",
       "2                      2                                  2   \n",
       "4                      3                                  3   \n",
       "5                      3                                  4   \n",
       "6                      2                                  4   \n",
       "\n",
       "   Ease of Online booking  ...  Inflight entertainment  On-board service  \\\n",
       "0                       3  ...                       5                 4   \n",
       "2                       2  ...                       5                 4   \n",
       "4                       3  ...                       3                 3   \n",
       "5                       2  ...                       1                 3   \n",
       "6                       2  ...                       2                 3   \n",
       "\n",
       "   Leg room service  Baggage handling  Checkin service  Inflight service  \\\n",
       "0                 3                 4                4                 5   \n",
       "2                 3                 4                4                 4   \n",
       "4                 4                 4                3                 3   \n",
       "5                 4                 4                4                 4   \n",
       "6                 3                 4                3                 5   \n",
       "\n",
       "   Cleanliness  Departure Delay in Minutes  Arrival Delay in Minutes  \\\n",
       "0            5                          25                      18.0   \n",
       "2            5                           0                       0.0   \n",
       "4            3                           0                       0.0   \n",
       "5            1                           0                       0.0   \n",
       "6            2                           9                      23.0   \n",
       "\n",
       "   satisfaction  \n",
       "0             0  \n",
       "2             1  \n",
       "4             1  \n",
       "5             0  \n",
       "6             0  \n",
       "\n",
       "[5 rows x 24 columns]"
      ]
     },
     "execution_count": 43,
     "metadata": {},
     "output_type": "execute_result"
    }
   ],
   "source": [
    "df_train.head()"
   ]
  },
  {
   "cell_type": "code",
   "execution_count": 44,
   "metadata": {},
   "outputs": [
    {
     "data": {
      "text/html": [
       "<div>\n",
       "<style scoped>\n",
       "    .dataframe tbody tr th:only-of-type {\n",
       "        vertical-align: middle;\n",
       "    }\n",
       "\n",
       "    .dataframe tbody tr th {\n",
       "        vertical-align: top;\n",
       "    }\n",
       "\n",
       "    .dataframe thead th {\n",
       "        text-align: right;\n",
       "    }\n",
       "</style>\n",
       "<table border=\"1\" class=\"dataframe\">\n",
       "  <thead>\n",
       "    <tr style=\"text-align: right;\">\n",
       "      <th></th>\n",
       "      <th>id</th>\n",
       "      <th>Gender</th>\n",
       "      <th>Customer Type</th>\n",
       "      <th>Age</th>\n",
       "      <th>Type of Travel</th>\n",
       "      <th>Class</th>\n",
       "      <th>Flight Distance</th>\n",
       "      <th>Inflight wifi service</th>\n",
       "      <th>Departure/Arrival time convenient</th>\n",
       "      <th>Ease of Online booking</th>\n",
       "      <th>...</th>\n",
       "      <th>Inflight entertainment</th>\n",
       "      <th>On-board service</th>\n",
       "      <th>Leg room service</th>\n",
       "      <th>Baggage handling</th>\n",
       "      <th>Checkin service</th>\n",
       "      <th>Inflight service</th>\n",
       "      <th>Cleanliness</th>\n",
       "      <th>Departure Delay in Minutes</th>\n",
       "      <th>Arrival Delay in Minutes</th>\n",
       "      <th>satisfaction</th>\n",
       "    </tr>\n",
       "  </thead>\n",
       "  <tbody>\n",
       "    <tr>\n",
       "      <th>0</th>\n",
       "      <td>19556</td>\n",
       "      <td>0</td>\n",
       "      <td>0</td>\n",
       "      <td>52</td>\n",
       "      <td>0</td>\n",
       "      <td>1</td>\n",
       "      <td>160</td>\n",
       "      <td>5</td>\n",
       "      <td>4</td>\n",
       "      <td>3</td>\n",
       "      <td>...</td>\n",
       "      <td>5</td>\n",
       "      <td>5</td>\n",
       "      <td>5</td>\n",
       "      <td>5</td>\n",
       "      <td>2</td>\n",
       "      <td>5</td>\n",
       "      <td>5</td>\n",
       "      <td>50</td>\n",
       "      <td>44.0</td>\n",
       "      <td>1</td>\n",
       "    </tr>\n",
       "    <tr>\n",
       "      <th>1</th>\n",
       "      <td>90035</td>\n",
       "      <td>0</td>\n",
       "      <td>0</td>\n",
       "      <td>36</td>\n",
       "      <td>0</td>\n",
       "      <td>0</td>\n",
       "      <td>2863</td>\n",
       "      <td>1</td>\n",
       "      <td>1</td>\n",
       "      <td>3</td>\n",
       "      <td>...</td>\n",
       "      <td>4</td>\n",
       "      <td>4</td>\n",
       "      <td>4</td>\n",
       "      <td>4</td>\n",
       "      <td>3</td>\n",
       "      <td>4</td>\n",
       "      <td>5</td>\n",
       "      <td>0</td>\n",
       "      <td>0.0</td>\n",
       "      <td>1</td>\n",
       "    </tr>\n",
       "    <tr>\n",
       "      <th>2</th>\n",
       "      <td>12360</td>\n",
       "      <td>1</td>\n",
       "      <td>1</td>\n",
       "      <td>20</td>\n",
       "      <td>0</td>\n",
       "      <td>1</td>\n",
       "      <td>192</td>\n",
       "      <td>2</td>\n",
       "      <td>0</td>\n",
       "      <td>2</td>\n",
       "      <td>...</td>\n",
       "      <td>2</td>\n",
       "      <td>4</td>\n",
       "      <td>1</td>\n",
       "      <td>3</td>\n",
       "      <td>2</td>\n",
       "      <td>2</td>\n",
       "      <td>2</td>\n",
       "      <td>0</td>\n",
       "      <td>0.0</td>\n",
       "      <td>0</td>\n",
       "    </tr>\n",
       "    <tr>\n",
       "      <th>3</th>\n",
       "      <td>77959</td>\n",
       "      <td>1</td>\n",
       "      <td>0</td>\n",
       "      <td>44</td>\n",
       "      <td>0</td>\n",
       "      <td>0</td>\n",
       "      <td>3377</td>\n",
       "      <td>0</td>\n",
       "      <td>0</td>\n",
       "      <td>0</td>\n",
       "      <td>...</td>\n",
       "      <td>1</td>\n",
       "      <td>1</td>\n",
       "      <td>1</td>\n",
       "      <td>1</td>\n",
       "      <td>3</td>\n",
       "      <td>1</td>\n",
       "      <td>4</td>\n",
       "      <td>0</td>\n",
       "      <td>6.0</td>\n",
       "      <td>1</td>\n",
       "    </tr>\n",
       "    <tr>\n",
       "      <th>4</th>\n",
       "      <td>36875</td>\n",
       "      <td>0</td>\n",
       "      <td>0</td>\n",
       "      <td>49</td>\n",
       "      <td>0</td>\n",
       "      <td>1</td>\n",
       "      <td>1182</td>\n",
       "      <td>2</td>\n",
       "      <td>3</td>\n",
       "      <td>4</td>\n",
       "      <td>...</td>\n",
       "      <td>2</td>\n",
       "      <td>2</td>\n",
       "      <td>2</td>\n",
       "      <td>2</td>\n",
       "      <td>4</td>\n",
       "      <td>2</td>\n",
       "      <td>4</td>\n",
       "      <td>0</td>\n",
       "      <td>20.0</td>\n",
       "      <td>1</td>\n",
       "    </tr>\n",
       "  </tbody>\n",
       "</table>\n",
       "<p>5 rows × 24 columns</p>\n",
       "</div>"
      ],
      "text/plain": [
       "      id  Gender  Customer Type  Age  Type of Travel  Class  Flight Distance  \\\n",
       "0  19556       0              0   52               0      1              160   \n",
       "1  90035       0              0   36               0      0             2863   \n",
       "2  12360       1              1   20               0      1              192   \n",
       "3  77959       1              0   44               0      0             3377   \n",
       "4  36875       0              0   49               0      1             1182   \n",
       "\n",
       "   Inflight wifi service  Departure/Arrival time convenient  \\\n",
       "0                      5                                  4   \n",
       "1                      1                                  1   \n",
       "2                      2                                  0   \n",
       "3                      0                                  0   \n",
       "4                      2                                  3   \n",
       "\n",
       "   Ease of Online booking  ...  Inflight entertainment  On-board service  \\\n",
       "0                       3  ...                       5                 5   \n",
       "1                       3  ...                       4                 4   \n",
       "2                       2  ...                       2                 4   \n",
       "3                       0  ...                       1                 1   \n",
       "4                       4  ...                       2                 2   \n",
       "\n",
       "   Leg room service  Baggage handling  Checkin service  Inflight service  \\\n",
       "0                 5                 5                2                 5   \n",
       "1                 4                 4                3                 4   \n",
       "2                 1                 3                2                 2   \n",
       "3                 1                 1                3                 1   \n",
       "4                 2                 2                4                 2   \n",
       "\n",
       "   Cleanliness  Departure Delay in Minutes  Arrival Delay in Minutes  \\\n",
       "0            5                          50                      44.0   \n",
       "1            5                           0                       0.0   \n",
       "2            2                           0                       0.0   \n",
       "3            4                           0                       6.0   \n",
       "4            4                           0                      20.0   \n",
       "\n",
       "   satisfaction  \n",
       "0             1  \n",
       "1             1  \n",
       "2             0  \n",
       "3             1  \n",
       "4             1  \n",
       "\n",
       "[5 rows x 24 columns]"
      ]
     },
     "execution_count": 44,
     "metadata": {},
     "output_type": "execute_result"
    }
   ],
   "source": [
    "df_test.head()"
   ]
  },
  {
   "cell_type": "markdown",
   "metadata": {},
   "source": [
    "# Finding Correlation among Features"
   ]
  },
  {
   "cell_type": "code",
   "execution_count": 64,
   "metadata": {
    "scrolled": true
   },
   "outputs": [
    {
     "data": {
      "image/png": "[encoded data removed]",
      "text/plain": [
       "<Figure size 1440x1440 with 2 Axes>"
      ]
     },
     "metadata": {},
     "output_type": "display_data"
    }
   ],
   "source": [
    "sns.set(rc={'figure.figsize':(20,20)})\n",
    "\n",
    "cor_df = df_train.corr()\n",
    "\n",
    "sns.heatmap(cor_df, annot = True, cmap = 'Blues')\n",
    "plt.show()"
   ]
  },
  {
   "cell_type": "code",
   "execution_count": 63,
   "metadata": {},
   "outputs": [
    {
     "data": {
      "image/png": "[encoded data removed]",
      "text/plain": [
       "<Figure size 1440x1440 with 2 Axes>"
      ]
     },
     "metadata": {},
     "output_type": "display_data"
    }
   ],
   "source": [
    "sns.set(rc={'figure.figsize':(20,20)})\n",
    "\n",
    "cor_df = numeric_df.corr()\n",
    "\n",
    "sns.heatmap(cor_df, annot = True, cmap = 'GnBu_r')\n",
    "plt.show()"
   ]
  },
  {
   "cell_type": "markdown",
   "metadata": {},
   "source": [
    "# Top 10 Feature Selection through Chi-Square¶"
   ]
  },
  {
   "cell_type": "code",
   "execution_count": 79,
   "metadata": {
    "scrolled": true
   },
   "outputs": [
    {
     "data": {
      "text/html": [
       "<div>\n",
       "<style scoped>\n",
       "    .dataframe tbody tr th:only-of-type {\n",
       "        vertical-align: middle;\n",
       "    }\n",
       "\n",
       "    .dataframe tbody tr th {\n",
       "        vertical-align: top;\n",
       "    }\n",
       "\n",
       "    .dataframe thead th {\n",
       "        text-align: right;\n",
       "    }\n",
       "</style>\n",
       "<table border=\"1\" class=\"dataframe\">\n",
       "  <thead>\n",
       "    <tr style=\"text-align: right;\">\n",
       "      <th></th>\n",
       "      <th>id</th>\n",
       "      <th>Gender</th>\n",
       "      <th>Customer Type</th>\n",
       "      <th>Age</th>\n",
       "      <th>Type of Travel</th>\n",
       "      <th>Class</th>\n",
       "      <th>Flight Distance</th>\n",
       "      <th>Inflight wifi service</th>\n",
       "      <th>Departure/Arrival time convenient</th>\n",
       "      <th>Ease of Online booking</th>\n",
       "      <th>...</th>\n",
       "      <th>Inflight entertainment</th>\n",
       "      <th>On-board service</th>\n",
       "      <th>Leg room service</th>\n",
       "      <th>Baggage handling</th>\n",
       "      <th>Checkin service</th>\n",
       "      <th>Inflight service</th>\n",
       "      <th>Cleanliness</th>\n",
       "      <th>Departure Delay in Minutes</th>\n",
       "      <th>Arrival Delay in Minutes</th>\n",
       "      <th>satisfaction</th>\n",
       "    </tr>\n",
       "  </thead>\n",
       "  <tbody>\n",
       "    <tr>\n",
       "      <th>0</th>\n",
       "      <td>0.540280</td>\n",
       "      <td>1.0</td>\n",
       "      <td>0.0</td>\n",
       "      <td>0.076923</td>\n",
       "      <td>1.0</td>\n",
       "      <td>1.0</td>\n",
       "      <td>0.115789</td>\n",
       "      <td>0.6</td>\n",
       "      <td>0.8</td>\n",
       "      <td>0.6</td>\n",
       "      <td>...</td>\n",
       "      <td>1.0</td>\n",
       "      <td>0.8</td>\n",
       "      <td>0.6</td>\n",
       "      <td>0.75</td>\n",
       "      <td>0.666667</td>\n",
       "      <td>1.0</td>\n",
       "      <td>1.0</td>\n",
       "      <td>0.833333</td>\n",
       "      <td>0.56250</td>\n",
       "      <td>0.0</td>\n",
       "    </tr>\n",
       "    <tr>\n",
       "      <th>1</th>\n",
       "      <td>0.847150</td>\n",
       "      <td>0.0</td>\n",
       "      <td>0.0</td>\n",
       "      <td>0.243590</td>\n",
       "      <td>0.0</td>\n",
       "      <td>0.0</td>\n",
       "      <td>0.299865</td>\n",
       "      <td>0.4</td>\n",
       "      <td>0.4</td>\n",
       "      <td>0.4</td>\n",
       "      <td>...</td>\n",
       "      <td>1.0</td>\n",
       "      <td>0.8</td>\n",
       "      <td>0.6</td>\n",
       "      <td>0.75</td>\n",
       "      <td>0.666667</td>\n",
       "      <td>0.8</td>\n",
       "      <td>1.0</td>\n",
       "      <td>0.000000</td>\n",
       "      <td>0.00000</td>\n",
       "      <td>1.0</td>\n",
       "    </tr>\n",
       "    <tr>\n",
       "      <th>2</th>\n",
       "      <td>0.918532</td>\n",
       "      <td>1.0</td>\n",
       "      <td>0.0</td>\n",
       "      <td>0.692308</td>\n",
       "      <td>0.0</td>\n",
       "      <td>0.0</td>\n",
       "      <td>0.049393</td>\n",
       "      <td>0.6</td>\n",
       "      <td>0.6</td>\n",
       "      <td>0.6</td>\n",
       "      <td>...</td>\n",
       "      <td>0.6</td>\n",
       "      <td>0.6</td>\n",
       "      <td>0.8</td>\n",
       "      <td>0.75</td>\n",
       "      <td>0.333333</td>\n",
       "      <td>0.6</td>\n",
       "      <td>0.6</td>\n",
       "      <td>0.000000</td>\n",
       "      <td>0.00000</td>\n",
       "      <td>1.0</td>\n",
       "    </tr>\n",
       "    <tr>\n",
       "      <th>3</th>\n",
       "      <td>0.855843</td>\n",
       "      <td>0.0</td>\n",
       "      <td>0.0</td>\n",
       "      <td>0.243590</td>\n",
       "      <td>1.0</td>\n",
       "      <td>0.5</td>\n",
       "      <td>0.310121</td>\n",
       "      <td>0.6</td>\n",
       "      <td>0.8</td>\n",
       "      <td>0.4</td>\n",
       "      <td>...</td>\n",
       "      <td>0.2</td>\n",
       "      <td>0.6</td>\n",
       "      <td>0.8</td>\n",
       "      <td>0.75</td>\n",
       "      <td>0.666667</td>\n",
       "      <td>0.8</td>\n",
       "      <td>0.2</td>\n",
       "      <td>0.000000</td>\n",
       "      <td>0.00000</td>\n",
       "      <td>0.0</td>\n",
       "    </tr>\n",
       "    <tr>\n",
       "      <th>4</th>\n",
       "      <td>0.632219</td>\n",
       "      <td>1.0</td>\n",
       "      <td>0.0</td>\n",
       "      <td>0.512821</td>\n",
       "      <td>1.0</td>\n",
       "      <td>0.5</td>\n",
       "      <td>0.336032</td>\n",
       "      <td>0.4</td>\n",
       "      <td>0.8</td>\n",
       "      <td>0.4</td>\n",
       "      <td>...</td>\n",
       "      <td>0.4</td>\n",
       "      <td>0.6</td>\n",
       "      <td>0.6</td>\n",
       "      <td>0.75</td>\n",
       "      <td>0.333333</td>\n",
       "      <td>1.0</td>\n",
       "      <td>0.4</td>\n",
       "      <td>0.300000</td>\n",
       "      <td>0.71875</td>\n",
       "      <td>0.0</td>\n",
       "    </tr>\n",
       "  </tbody>\n",
       "</table>\n",
       "<p>5 rows × 24 columns</p>\n",
       "</div>"
      ],
      "text/plain": [
       "         id  Gender  Customer Type       Age  Type of Travel  Class  \\\n",
       "0  0.540280     1.0            0.0  0.076923             1.0    1.0   \n",
       "1  0.847150     0.0            0.0  0.243590             0.0    0.0   \n",
       "2  0.918532     1.0            0.0  0.692308             0.0    0.0   \n",
       "3  0.855843     0.0            0.0  0.243590             1.0    0.5   \n",
       "4  0.632219     1.0            0.0  0.512821             1.0    0.5   \n",
       "\n",
       "   Flight Distance  Inflight wifi service  Departure/Arrival time convenient  \\\n",
       "0         0.115789                    0.6                                0.8   \n",
       "1         0.299865                    0.4                                0.4   \n",
       "2         0.049393                    0.6                                0.6   \n",
       "3         0.310121                    0.6                                0.8   \n",
       "4         0.336032                    0.4                                0.8   \n",
       "\n",
       "   Ease of Online booking  ...  Inflight entertainment  On-board service  \\\n",
       "0                     0.6  ...                     1.0               0.8   \n",
       "1                     0.4  ...                     1.0               0.8   \n",
       "2                     0.6  ...                     0.6               0.6   \n",
       "3                     0.4  ...                     0.2               0.6   \n",
       "4                     0.4  ...                     0.4               0.6   \n",
       "\n",
       "   Leg room service  Baggage handling  Checkin service  Inflight service  \\\n",
       "0               0.6              0.75         0.666667               1.0   \n",
       "1               0.6              0.75         0.666667               0.8   \n",
       "2               0.8              0.75         0.333333               0.6   \n",
       "3               0.8              0.75         0.666667               0.8   \n",
       "4               0.6              0.75         0.333333               1.0   \n",
       "\n",
       "   Cleanliness  Departure Delay in Minutes  Arrival Delay in Minutes  \\\n",
       "0          1.0                    0.833333                   0.56250   \n",
       "1          1.0                    0.000000                   0.00000   \n",
       "2          0.6                    0.000000                   0.00000   \n",
       "3          0.2                    0.000000                   0.00000   \n",
       "4          0.4                    0.300000                   0.71875   \n",
       "\n",
       "   satisfaction  \n",
       "0           0.0  \n",
       "1           1.0  \n",
       "2           1.0  \n",
       "3           0.0  \n",
       "4           0.0  \n",
       "\n",
       "[5 rows x 24 columns]"
      ]
     },
     "execution_count": 79,
     "metadata": {},
     "output_type": "execute_result"
    }
   ],
   "source": [
    "from sklearn import preprocessing\n",
    "r_scaler = preprocessing.MinMaxScaler()\n",
    "r_scaler.fit(df_train)\n",
    "#modified_data = pd.DataFrame(r_scaler.transform(train), index=train['id'], columns=train.columns)\n",
    "modified_data = pd.DataFrame(r_scaler.transform(df_train), columns=df_train.columns)\n",
    "modified_data.head()"
   ]
  },
  {
   "cell_type": "code",
   "execution_count": 81,
   "metadata": {},
   "outputs": [
    {
     "data": {
      "text/html": [
       "<div>\n",
       "<style scoped>\n",
       "    .dataframe tbody tr th:only-of-type {\n",
       "        vertical-align: middle;\n",
       "    }\n",
       "\n",
       "    .dataframe tbody tr th {\n",
       "        vertical-align: top;\n",
       "    }\n",
       "\n",
       "    .dataframe thead th {\n",
       "        text-align: right;\n",
       "    }\n",
       "</style>\n",
       "<table border=\"1\" class=\"dataframe\">\n",
       "  <thead>\n",
       "    <tr style=\"text-align: right;\">\n",
       "      <th></th>\n",
       "      <th>id</th>\n",
       "      <th>Gender</th>\n",
       "      <th>Customer Type</th>\n",
       "      <th>Age</th>\n",
       "      <th>Type of Travel</th>\n",
       "      <th>Class</th>\n",
       "      <th>Flight Distance</th>\n",
       "      <th>Inflight wifi service</th>\n",
       "      <th>Departure/Arrival time convenient</th>\n",
       "      <th>Ease of Online booking</th>\n",
       "      <th>...</th>\n",
       "      <th>Inflight entertainment</th>\n",
       "      <th>On-board service</th>\n",
       "      <th>Leg room service</th>\n",
       "      <th>Baggage handling</th>\n",
       "      <th>Checkin service</th>\n",
       "      <th>Inflight service</th>\n",
       "      <th>Cleanliness</th>\n",
       "      <th>Departure Delay in Minutes</th>\n",
       "      <th>Arrival Delay in Minutes</th>\n",
       "      <th>satisfaction</th>\n",
       "    </tr>\n",
       "  </thead>\n",
       "  <tbody>\n",
       "    <tr>\n",
       "      <th>0</th>\n",
       "      <td>0.150462</td>\n",
       "      <td>0.0</td>\n",
       "      <td>0.0</td>\n",
       "      <td>0.576923</td>\n",
       "      <td>0.0</td>\n",
       "      <td>0.5</td>\n",
       "      <td>0.026050</td>\n",
       "      <td>1.0</td>\n",
       "      <td>0.8</td>\n",
       "      <td>0.6</td>\n",
       "      <td>...</td>\n",
       "      <td>1.0</td>\n",
       "      <td>1.0</td>\n",
       "      <td>1.0</td>\n",
       "      <td>1.00</td>\n",
       "      <td>0.25</td>\n",
       "      <td>1.0</td>\n",
       "      <td>1.0</td>\n",
       "      <td>0.044326</td>\n",
       "      <td>0.039462</td>\n",
       "      <td>1.0</td>\n",
       "    </tr>\n",
       "    <tr>\n",
       "      <th>1</th>\n",
       "      <td>0.693193</td>\n",
       "      <td>0.0</td>\n",
       "      <td>0.0</td>\n",
       "      <td>0.371795</td>\n",
       "      <td>0.0</td>\n",
       "      <td>0.0</td>\n",
       "      <td>0.571890</td>\n",
       "      <td>0.2</td>\n",
       "      <td>0.2</td>\n",
       "      <td>0.6</td>\n",
       "      <td>...</td>\n",
       "      <td>0.8</td>\n",
       "      <td>0.8</td>\n",
       "      <td>0.8</td>\n",
       "      <td>0.75</td>\n",
       "      <td>0.50</td>\n",
       "      <td>0.8</td>\n",
       "      <td>1.0</td>\n",
       "      <td>0.000000</td>\n",
       "      <td>0.000000</td>\n",
       "      <td>1.0</td>\n",
       "    </tr>\n",
       "    <tr>\n",
       "      <th>2</th>\n",
       "      <td>0.095049</td>\n",
       "      <td>1.0</td>\n",
       "      <td>1.0</td>\n",
       "      <td>0.166667</td>\n",
       "      <td>0.0</td>\n",
       "      <td>0.5</td>\n",
       "      <td>0.032512</td>\n",
       "      <td>0.4</td>\n",
       "      <td>0.0</td>\n",
       "      <td>0.4</td>\n",
       "      <td>...</td>\n",
       "      <td>0.4</td>\n",
       "      <td>0.8</td>\n",
       "      <td>0.2</td>\n",
       "      <td>0.50</td>\n",
       "      <td>0.25</td>\n",
       "      <td>0.4</td>\n",
       "      <td>0.4</td>\n",
       "      <td>0.000000</td>\n",
       "      <td>0.000000</td>\n",
       "      <td>0.0</td>\n",
       "    </tr>\n",
       "    <tr>\n",
       "      <th>3</th>\n",
       "      <td>0.600200</td>\n",
       "      <td>1.0</td>\n",
       "      <td>0.0</td>\n",
       "      <td>0.474359</td>\n",
       "      <td>0.0</td>\n",
       "      <td>0.0</td>\n",
       "      <td>0.675687</td>\n",
       "      <td>0.0</td>\n",
       "      <td>0.0</td>\n",
       "      <td>0.0</td>\n",
       "      <td>...</td>\n",
       "      <td>0.2</td>\n",
       "      <td>0.2</td>\n",
       "      <td>0.2</td>\n",
       "      <td>0.00</td>\n",
       "      <td>0.50</td>\n",
       "      <td>0.2</td>\n",
       "      <td>0.8</td>\n",
       "      <td>0.000000</td>\n",
       "      <td>0.005381</td>\n",
       "      <td>1.0</td>\n",
       "    </tr>\n",
       "    <tr>\n",
       "      <th>4</th>\n",
       "      <td>0.283829</td>\n",
       "      <td>0.0</td>\n",
       "      <td>0.0</td>\n",
       "      <td>0.538462</td>\n",
       "      <td>0.0</td>\n",
       "      <td>0.5</td>\n",
       "      <td>0.232431</td>\n",
       "      <td>0.4</td>\n",
       "      <td>0.6</td>\n",
       "      <td>0.8</td>\n",
       "      <td>...</td>\n",
       "      <td>0.4</td>\n",
       "      <td>0.4</td>\n",
       "      <td>0.4</td>\n",
       "      <td>0.25</td>\n",
       "      <td>0.75</td>\n",
       "      <td>0.4</td>\n",
       "      <td>0.8</td>\n",
       "      <td>0.000000</td>\n",
       "      <td>0.017937</td>\n",
       "      <td>1.0</td>\n",
       "    </tr>\n",
       "  </tbody>\n",
       "</table>\n",
       "<p>5 rows × 24 columns</p>\n",
       "</div>"
      ],
      "text/plain": [
       "         id  Gender  Customer Type       Age  Type of Travel  Class  \\\n",
       "0  0.150462     0.0            0.0  0.576923             0.0    0.5   \n",
       "1  0.693193     0.0            0.0  0.371795             0.0    0.0   \n",
       "2  0.095049     1.0            1.0  0.166667             0.0    0.5   \n",
       "3  0.600200     1.0            0.0  0.474359             0.0    0.0   \n",
       "4  0.283829     0.0            0.0  0.538462             0.0    0.5   \n",
       "\n",
       "   Flight Distance  Inflight wifi service  Departure/Arrival time convenient  \\\n",
       "0         0.026050                    1.0                                0.8   \n",
       "1         0.571890                    0.2                                0.2   \n",
       "2         0.032512                    0.4                                0.0   \n",
       "3         0.675687                    0.0                                0.0   \n",
       "4         0.232431                    0.4                                0.6   \n",
       "\n",
       "   Ease of Online booking  ...  Inflight entertainment  On-board service  \\\n",
       "0                     0.6  ...                     1.0               1.0   \n",
       "1                     0.6  ...                     0.8               0.8   \n",
       "2                     0.4  ...                     0.4               0.8   \n",
       "3                     0.0  ...                     0.2               0.2   \n",
       "4                     0.8  ...                     0.4               0.4   \n",
       "\n",
       "   Leg room service  Baggage handling  Checkin service  Inflight service  \\\n",
       "0               1.0              1.00             0.25               1.0   \n",
       "1               0.8              0.75             0.50               0.8   \n",
       "2               0.2              0.50             0.25               0.4   \n",
       "3               0.2              0.00             0.50               0.2   \n",
       "4               0.4              0.25             0.75               0.4   \n",
       "\n",
       "   Cleanliness  Departure Delay in Minutes  Arrival Delay in Minutes  \\\n",
       "0          1.0                    0.044326                  0.039462   \n",
       "1          1.0                    0.000000                  0.000000   \n",
       "2          0.4                    0.000000                  0.000000   \n",
       "3          0.8                    0.000000                  0.005381   \n",
       "4          0.8                    0.000000                  0.017937   \n",
       "\n",
       "   satisfaction  \n",
       "0           1.0  \n",
       "1           1.0  \n",
       "2           0.0  \n",
       "3           1.0  \n",
       "4           1.0  \n",
       "\n",
       "[5 rows x 24 columns]"
      ]
     },
     "execution_count": 81,
     "metadata": {},
     "output_type": "execute_result"
    }
   ],
   "source": [
    "from sklearn import preprocessing\n",
    "r_scaler = preprocessing.MinMaxScaler()\n",
    "r_scaler.fit(df_test)\n",
    "#modified_data = pd.DataFrame(r_scaler.transform(train), index=train['id'], columns=train.columns)\n",
    "modified_data = pd.DataFrame(r_scaler.transform(df_test), columns=df_test.columns)\n",
    "modified_data.head()"
   ]
  },
  {
   "cell_type": "code",
   "execution_count": 48,
   "metadata": {},
   "outputs": [
    {
     "name": "stdout",
     "output_type": "stream",
     "text": [
      "Index(['Customer Type', 'Type of Travel', 'Class', 'Flight Distance',\n",
      "       'Inflight wifi service', 'Online boarding', 'Seat comfort',\n",
      "       'Inflight entertainment', 'Leg room service', 'Cleanliness'],\n",
      "      dtype='object')\n"
     ]
    }
   ],
   "source": [
    "from sklearn.feature_selection import SelectKBest, chi2\n",
    "X = modified_data.loc[:,modified_data.columns!='satisfaction']\n",
    "y = modified_data[['satisfaction']]\n",
    "selector = SelectKBest(chi2, k=10)\n",
    "selector.fit(X, y)\n",
    "X_new = selector.transform(X)\n",
    "print(X.columns[selector.get_support(indices=True)])"
   ]
  },
  {
   "cell_type": "markdown",
   "metadata": {},
   "source": [
    "These are top 10 features impacting on passenger satisfaction"
   ]
  },
  {
   "cell_type": "markdown",
   "metadata": {},
   "source": [
    "# Building Models"
   ]
  },
  {
   "cell_type": "code",
   "execution_count": 49,
   "metadata": {},
   "outputs": [],
   "source": [
    "from sklearn.svm import SVC\n",
    "from sklearn.linear_model import LogisticRegression\n",
    "from sklearn.neighbors import KNeighborsClassifier\n",
    "from sklearn.tree import DecisionTreeClassifier\n",
    "from sklearn.ensemble import RandomForestClassifier\n",
    "from sklearn.model_selection import train_test_split\n",
    "from sklearn.preprocessing import StandardScaler\n",
    "from sklearn.compose import ColumnTransformer\n",
    "from sklearn.metrics import accuracy_score, confusion_matrix, roc_auc_score, roc_curve\n"
   ]
  },
  {
   "cell_type": "code",
   "execution_count": 50,
   "metadata": {},
   "outputs": [],
   "source": [
    "features = ['Customer Type', 'Type of Travel', 'Class', 'Flight Distance',\n",
    "       'Inflight wifi service', 'Online boarding', 'Seat comfort',\n",
    "       'Inflight entertainment', 'Leg room service', 'Cleanliness']\n",
    "target = ['satisfaction']\n",
    "\n",
    "X = df_train[features]\n",
    "y = df_train[target]\n",
    "\n",
    "# Perform train-test split\n",
    "X_train, X_test, y_train, y_test = train_test_split(X, y, test_size=0.2, random_state=42)\n"
   ]
  },
  {
   "cell_type": "code",
   "execution_count": 51,
   "metadata": {},
   "outputs": [],
   "source": [
    "# Standardize numerical features using StandardScaler\n",
    "numeric_features = ['Flight Distance']\n",
    "preprocessor = ColumnTransformer([('scaler', StandardScaler(), numeric_features)],\n",
    "                                 remainder='passthrough')\n",
    "X_train = preprocessor.fit_transform(X_train)\n",
    "X_test = preprocessor.transform(X_test)"
   ]
  },
  {
   "cell_type": "markdown",
   "metadata": {},
   "source": [
    "#This code showes that numerical feature \"Flight Distance\" will be standardized in both the training and test datasets. #Standardization involves subtracting the mean and dividing by the standard deviation, resulting in a feature with a mean of 0 and a standard deviation of 1.\n",
    "#This used to normalize the range of features and make them more comparable or suitable for certain machine learning algorithms."
   ]
  },
  {
   "cell_type": "code",
   "execution_count": 52,
   "metadata": {},
   "outputs": [],
   "source": [
    "# SVM model\n",
    "svm = SVC()\n",
    "svm.fit(X_train, y_train)\n",
    "svm_predictions = svm.predict(X_test)\n",
    "svm_accuracy = accuracy_score(y_test, svm_predictions)\n",
    "svm_confusion_matrix = confusion_matrix(y_test, svm_predictions)\n",
    "svm_roc_auc = roc_auc_score(y_test, svm_predictions)\n",
    "svm_fpr, svm_tpr, _ = roc_curve(y_test, svm_predictions)"
   ]
  },
  {
   "cell_type": "markdown",
   "metadata": {},
   "source": [
    "#The steps collectively train the SVM model, make predictions on the test data, evaluate the model's accuracy, generate a confusion matrix, and compute the ROC curve and ROC AUC score for performance evaluation."
   ]
  },
  {
   "cell_type": "code",
   "execution_count": 53,
   "metadata": {
    "scrolled": true
   },
   "outputs": [
    {
     "name": "stdout",
     "output_type": "stream",
     "text": [
      "SVM Accuracy: 0.9363448321878962\n",
      "SVM Confusion Matrix:\n",
      " [[7679  396]\n",
      " [ 558 6354]]\n",
      "SVM ROC AUC: 0.9351152928276574\n"
     ]
    }
   ],
   "source": [
    "# Print the results\n",
    "print(\"SVM Accuracy:\", svm_accuracy)\n",
    "print(\"SVM Confusion Matrix:\\n\", svm_confusion_matrix)\n",
    "print(\"SVM ROC AUC:\", svm_roc_auc)"
   ]
  },
  {
   "cell_type": "markdown",
   "metadata": {},
   "source": [
    "#This examine the performance of the SVM model. The accuracy provides a measure of how well the model predicted the correct labels. The confusion matrix gives detailed information about the true positive, true negative, false positive, and false negative predictions. Finally, the ROC AUC score represents the overall performance of the model in distinguishing between positive and negative classes."
   ]
  },
  {
   "cell_type": "code",
   "execution_count": 54,
   "metadata": {},
   "outputs": [
    {
     "name": "stdout",
     "output_type": "stream",
     "text": [
      "Logistic Regression Accuracy: 0.8637485821044906\n",
      "Logistic Regression Confusion Matrix:\n",
      " [[7134  941]\n",
      " [1101 5811]]\n",
      "Logistic Regression ROC AUC: 0.8620896489078088\n"
     ]
    }
   ],
   "source": [
    "# Logistic Regression model\n",
    "lr = LogisticRegression()\n",
    "lr.fit(X_train, y_train)\n",
    "lr_predictions = lr.predict(X_test)\n",
    "lr_accuracy = accuracy_score(y_test, lr_predictions)\n",
    "lr_confusion_matrix = confusion_matrix(y_test, lr_predictions)\n",
    "lr_roc_auc = roc_auc_score(y_test, lr_predictions)\n",
    "lr_fpr, lr_tpr, _ = roc_curve(y_test, lr_predictions)\n",
    "\n",
    "\n",
    "print(\"Logistic Regression Accuracy:\", lr_accuracy)\n",
    "print(\"Logistic Regression Confusion Matrix:\\n\", lr_confusion_matrix)\n",
    "print(\"Logistic Regression ROC AUC:\", lr_roc_auc)"
   ]
  },
  {
   "cell_type": "code",
   "execution_count": 55,
   "metadata": {},
   "outputs": [
    {
     "name": "stdout",
     "output_type": "stream",
     "text": [
      "KNN Accuracy: 0.9314739440848736\n",
      "KNN Confusion Matrix:\n",
      " [[7681  394]\n",
      " [ 633 6279]]\n",
      "KNN ROC AUC: 0.9298137846147232\n"
     ]
    }
   ],
   "source": [
    "# KNN model\n",
    "knn = KNeighborsClassifier()\n",
    "knn.fit(X_train, y_train)\n",
    "knn_predictions = knn.predict(X_test)\n",
    "knn_accuracy = accuracy_score(y_test, knn_predictions)\n",
    "knn_confusion_matrix = confusion_matrix(y_test, knn_predictions)\n",
    "knn_roc_auc = roc_auc_score(y_test, knn_predictions)\n",
    "knn_fpr, knn_tpr, _ = roc_curve(y_test, knn_predictions)\n",
    "\n",
    "print(\"KNN Accuracy:\", knn_accuracy)\n",
    "print(\"KNN Confusion Matrix:\\n\", knn_confusion_matrix)\n",
    "print(\"KNN ROC AUC:\", knn_roc_auc)"
   ]
  },
  {
   "cell_type": "code",
   "execution_count": 56,
   "metadata": {},
   "outputs": [
    {
     "name": "stdout",
     "output_type": "stream",
     "text": [
      "Decision Tree Accuracy: 0.9244011476613064\n",
      "Decision Tree Confusion Matrix:\n",
      " [[7519  556]\n",
      " [ 577 6335]]\n",
      "Decision Tree ROC AUC: 0.9238337507883271\n"
     ]
    }
   ],
   "source": [
    "# Decision Tree model\n",
    "dt = DecisionTreeClassifier()\n",
    "dt.fit(X_train, y_train)\n",
    "dt_predictions = dt.predict(X_test)\n",
    "dt_accuracy = accuracy_score(y_test, dt_predictions)\n",
    "dt_confusion_matrix = confusion_matrix(y_test, dt_predictions)\n",
    "dt_roc_auc = roc_auc_score(y_test, dt_predictions)\n",
    "dt_fpr, dt_tpr, _ = roc_curve(y_test, dt_predictions)\n",
    "\n",
    "print(\"Decision Tree Accuracy:\", dt_accuracy)\n",
    "print(\"Decision Tree Confusion Matrix:\\n\", dt_confusion_matrix)\n",
    "print(\"Decision Tree ROC AUC:\", dt_roc_auc)"
   ]
  },
  {
   "cell_type": "code",
   "execution_count": 57,
   "metadata": {},
   "outputs": [
    {
     "name": "stdout",
     "output_type": "stream",
     "text": [
      "Random Forest Accuracy: 0.9343430973510376\n",
      "Random Forest Confusion Matrix:\n",
      " [[7656  419]\n",
      " [ 565 6347]]\n",
      "Random Forest ROC AUC: 0.9331847784801055\n"
     ]
    }
   ],
   "source": [
    "# Random Forest model\n",
    "rf = RandomForestClassifier()\n",
    "rf.fit(X_train, y_train)\n",
    "rf_predictions = rf.predict(X_test)\n",
    "rf_accuracy = accuracy_score(y_test, rf_predictions)\n",
    "rf_confusion_matrix = confusion_matrix(y_test, rf_predictions)\n",
    "rf_roc_auc = roc_auc_score(y_test, rf_predictions)\n",
    "rf_fpr, rf_tpr, _ = roc_curve(y_test, rf_predictions)\n",
    "\n",
    "print(\"Random Forest Accuracy:\", rf_accuracy)\n",
    "print(\"Random Forest Confusion Matrix:\\n\", rf_confusion_matrix)\n",
    "print(\"Random Forest ROC AUC:\", rf_roc_auc)"
   ]
  },
  {
   "cell_type": "code",
   "execution_count": null,
   "metadata": {},
   "outputs": [],
   "source": []
  },
  {
   "cell_type": "code",
   "execution_count": 58,
   "metadata": {},
   "outputs": [
    {
     "name": "stdout",
     "output_type": "stream",
     "text": [
      "Best Model: SVM\n",
      "Best Accuracy: 0.9363448321878962\n"
     ]
    }
   ],
   "source": [
    "# Create a dictionary to store the accuracy of each model\n",
    "accuracy_scores = {\n",
    "    'SVM': svm_accuracy,\n",
    "    'Logistic Regression': lr_accuracy,\n",
    "    'KNN': knn_accuracy,\n",
    "    'Decision Tree': dt_accuracy,\n",
    "    'Random Forest': rf_accuracy\n",
    "}\n",
    "\n",
    "# Find the best model based on accuracy\n",
    "best_model = max(accuracy_scores, key=accuracy_scores.get)\n",
    "best_accuracy = accuracy_scores[best_model]\n",
    "\n",
    "# Print the best model and its accuracy\n",
    "print(\"Best Model:\", best_model)\n",
    "print(\"Best Accuracy:\", best_accuracy)\n"
   ]
  },
  {
   "cell_type": "code",
   "execution_count": 59,
   "metadata": {},
   "outputs": [
    {
     "data": {
      "text/plain": [
       "(74931, 24)"
      ]
     },
     "execution_count": 59,
     "metadata": {},
     "output_type": "execute_result"
    }
   ],
   "source": [
    "df_train.shape"
   ]
  },
  {
   "cell_type": "code",
   "execution_count": null,
   "metadata": {},
   "outputs": [],
   "source": []
  },
  {
   "cell_type": "markdown",
   "metadata": {},
   "source": [
    "# df_test dataset"
   ]
  },
  {
   "cell_type": "code",
   "execution_count": 70,
   "metadata": {},
   "outputs": [],
   "source": [
    "# Replace df_train with df_test\n",
    "X = df_test[features]\n",
    "y = df_test[target]\n",
    "\n",
    "# Perform train-test split\n",
    "X_train, X_test, y_train, y_test = train_test_split(X, y, test_size=0.2, random_state=42)\n",
    "\n",
    "# Standardize numerical features using StandardScaler\n",
    "numeric_features = ['Flight Distance']\n",
    "preprocessor = ColumnTransformer([('scaler', StandardScaler(), numeric_features)],\n",
    "                                 remainder='passthrough')\n",
    "X_train = preprocessor.fit_transform(X_train)\n",
    "X_test = preprocessor.transform(X_test)"
   ]
  },
  {
   "cell_type": "code",
   "execution_count": 71,
   "metadata": {},
   "outputs": [
    {
     "name": "stdout",
     "output_type": "stream",
     "text": [
      "SVM Accuracy: 0.9278290993071594\n",
      "SVM Confusion Matrix:\n",
      " [[2774  171]\n",
      " [ 204 2047]]\n",
      "SVM ROC AUC: 0.9256545477995443\n"
     ]
    }
   ],
   "source": [
    "# SVM model\n",
    "svm = SVC()\n",
    "svm.fit(X_train, y_train)\n",
    "svm_predictions = svm.predict(X_test)\n",
    "svm_accuracy = accuracy_score(y_test, svm_predictions)\n",
    "svm_confusion_matrix = confusion_matrix(y_test, svm_predictions)\n",
    "svm_roc_auc = roc_auc_score(y_test, svm_predictions)\n",
    "svm_fpr, svm_tpr, _ = roc_curve(y_test, svm_predictions)\n",
    "\n",
    "# Print the results\n",
    "print(\"SVM Accuracy:\", svm_accuracy)\n",
    "print(\"SVM Confusion Matrix:\\n\", svm_confusion_matrix)\n",
    "print(\"SVM ROC AUC:\", svm_roc_auc)\n"
   ]
  },
  {
   "cell_type": "code",
   "execution_count": 72,
   "metadata": {},
   "outputs": [
    {
     "name": "stdout",
     "output_type": "stream",
     "text": [
      "Logistic Regression Accuracy: 0.8504618937644342\n",
      "Logistic Regression Confusion Matrix:\n",
      " [[2565  380]\n",
      " [ 397 1854]]\n",
      "Logistic Regression ROC AUC: 0.8473008412031928\n"
     ]
    }
   ],
   "source": [
    "# Logistic Regression model\n",
    "lr = LogisticRegression()\n",
    "lr.fit(X_train, y_train)\n",
    "lr_predictions = lr.predict(X_test)\n",
    "lr_accuracy = accuracy_score(y_test, lr_predictions)\n",
    "lr_confusion_matrix = confusion_matrix(y_test, lr_predictions)\n",
    "lr_roc_auc = roc_auc_score(y_test, lr_predictions)\n",
    "lr_fpr, lr_tpr, _ = roc_curve(y_test, lr_predictions)\n",
    "\n",
    "print(\"Logistic Regression Accuracy:\", lr_accuracy)\n",
    "print(\"Logistic Regression Confusion Matrix:\\n\", lr_confusion_matrix)\n",
    "print(\"Logistic Regression ROC AUC:\", lr_roc_auc)"
   ]
  },
  {
   "cell_type": "code",
   "execution_count": 73,
   "metadata": {},
   "outputs": [
    {
     "name": "stdout",
     "output_type": "stream",
     "text": [
      "KNN Accuracy: 0.9220554272517321\n",
      "KNN Confusion Matrix:\n",
      " [[2794  151]\n",
      " [ 254 1997]]\n",
      "KNN ROC AUC: 0.9179439585047657\n"
     ]
    }
   ],
   "source": [
    "# KNN model\n",
    "knn = KNeighborsClassifier()\n",
    "knn.fit(X_train, y_train)\n",
    "knn_predictions = knn.predict(X_test)\n",
    "knn_accuracy = accuracy_score(y_test, knn_predictions)\n",
    "knn_confusion_matrix = confusion_matrix(y_test, knn_predictions)\n",
    "knn_roc_auc = roc_auc_score(y_test, knn_predictions)\n",
    "knn_fpr, knn_tpr, _ = roc_curve(y_test, knn_predictions)\n",
    "\n",
    "print(\"KNN Accuracy:\", knn_accuracy)\n",
    "print(\"KNN Confusion Matrix:\\n\", knn_confusion_matrix)\n",
    "print(\"KNN ROC AUC:\", knn_roc_auc)\n"
   ]
  },
  {
   "cell_type": "code",
   "execution_count": 74,
   "metadata": {},
   "outputs": [
    {
     "name": "stdout",
     "output_type": "stream",
     "text": [
      "Decision Tree Accuracy: 0.9130100076982294\n",
      "Decision Tree Confusion Matrix:\n",
      " [[2717  228]\n",
      " [ 224 2027]]\n",
      "Decision Tree ROC AUC: 0.9115346584313783\n"
     ]
    }
   ],
   "source": [
    "# Decision Tree model\n",
    "dt = DecisionTreeClassifier()\n",
    "dt.fit(X_train, y_train)\n",
    "dt_predictions = dt.predict(X_test)\n",
    "dt_accuracy = accuracy_score(y_test, dt_predictions)\n",
    "dt_confusion_matrix = confusion_matrix(y_test, dt_predictions)\n",
    "dt_roc_auc = roc_auc_score(y_test, dt_predictions)\n",
    "dt_fpr, dt_tpr, _ = roc_curve(y_test, dt_predictions)\n",
    "\n",
    "print(\"Decision Tree Accuracy:\", dt_accuracy)\n",
    "print(\"Decision Tree Confusion Matrix:\\n\", dt_confusion_matrix)\n",
    "print(\"Decision Tree ROC AUC:\", dt_roc_auc)\n",
    "\n"
   ]
  },
  {
   "cell_type": "code",
   "execution_count": 75,
   "metadata": {},
   "outputs": [
    {
     "name": "stdout",
     "output_type": "stream",
     "text": [
      "Random Forest Accuracy: 0.9311008468052347\n",
      "Random Forest Confusion Matrix:\n",
      " [[2786  159]\n",
      " [ 199 2052]]\n",
      "Random Forest ROC AUC: 0.928802516746\n"
     ]
    }
   ],
   "source": [
    "# Random Forest model\n",
    "rf = RandomForestClassifier()\n",
    "rf.fit(X_train, y_train)\n",
    "rf_predictions = rf.predict(X_test)\n",
    "rf_accuracy = accuracy_score(y_test, rf_predictions)\n",
    "rf_confusion_matrix = confusion_matrix(y_test, rf_predictions)\n",
    "rf_roc_auc = roc_auc_score(y_test, rf_predictions)\n",
    "rf_fpr, rf_tpr, _ = roc_curve(y_test, rf_predictions)\n",
    "\n",
    "print(\"Random Forest Accuracy:\", rf_accuracy)\n",
    "print(\"Random Forest Confusion Matrix:\\n\", rf_confusion_matrix)\n",
    "print(\"Random Forest ROC AUC:\", rf_roc_auc)\n"
   ]
  },
  {
   "cell_type": "code",
   "execution_count": 76,
   "metadata": {},
   "outputs": [
    {
     "name": "stdout",
     "output_type": "stream",
     "text": [
      "Best Model: Random Forest\n",
      "Best Accuracy: 0.9311008468052347\n"
     ]
    }
   ],
   "source": [
    "# Create a dictionary to store the accuracy of each model\n",
    "accuracy_scores = {\n",
    "    'SVM': svm_accuracy,\n",
    "    'Logistic Regression': lr_accuracy,\n",
    "    'KNN': knn_accuracy,\n",
    "    'Decision Tree': dt_accuracy,\n",
    "    'Random Forest': rf_accuracy\n",
    "}\n",
    "\n",
    "# Find the best model based on accuracy\n",
    "best_model = max(accuracy_scores, key=accuracy_scores.get)\n",
    "best_accuracy = accuracy_scores[best_model]\n",
    "\n",
    "# Print the best model and its accuracy\n",
    "print(\"Best Model:\", best_model)\n",
    "print(\"Best Accuracy:\", best_accuracy)"
   ]
  },
  {
   "cell_type": "code",
   "execution_count": 77,
   "metadata": {},
   "outputs": [
    {
     "data": {
      "text/plain": [
       "(25976, 24)"
      ]
     },
     "execution_count": 77,
     "metadata": {},
     "output_type": "execute_result"
    }
   ],
   "source": [
    "df_test.shape"
   ]
  },
  {
   "cell_type": "code",
   "execution_count": null,
   "metadata": {},
   "outputs": [],
   "source": []
  }
 ],
 "metadata": {
  "kernelspec": {
   "display_name": "Python 3",
   "language": "python",
   "name": "python3"
  },
  "language_info": {
   "codemirror_mode": {
    "name": "ipython",
    "version": 3
   },
   "file_extension": ".py",
   "mimetype": "text/x-python",
   "name": "python",
   "nbconvert_exporter": "python",
   "pygments_lexer": "ipython3",
   "version": "3.7.6"
  }
 },
 "nbformat": 4,
 "nbformat_minor": 5
}
